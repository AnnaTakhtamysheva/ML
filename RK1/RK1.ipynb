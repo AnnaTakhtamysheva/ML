{
 "cells":[
  {
   "cell_type":"code",
   "source":[
    "import numpy as np\n",
    "import pandas as pd\n",
    "import seaborn as sns\n",
    "import matplotlib.pyplot as plt\n",
    "%matplotlib inline \n",
    "from sklearn.preprocessing import LabelEncoder\n",
    "from sklearn.preprocessing import OneHotEncoder\n",
    "from sklearn.preprocessing import MinMaxScaler, StandardScaler, Normalizer"
   ],
   "execution_count":54,
   "outputs":[
    
   ],
   "metadata":{
    "datalore":{
     "type":"CODE",
     "hide_input_from_viewers":false,
     "hide_output_from_viewers":false
    }
   }
  },
  {
   "cell_type":"code",
   "source":[
    "data = pd.read_csv('states_all.csv', sep=\",\")"
   ],
   "execution_count":55,
   "outputs":[
    
   ],
   "metadata":{
    "datalore":{
     "type":"CODE",
     "hide_input_from_viewers":false,
     "hide_output_from_viewers":false
    }
   }
  },
  {
   "cell_type":"code",
   "source":[
    "data.shape"
   ],
   "execution_count":56,
   "outputs":[
    {
     "data":{
      "text\/plain":[
       "(1715, 25)"
      ]
     },
     "metadata":{
      
     },
     "output_type":"display_data"
    }
   ],
   "metadata":{
    "datalore":{
     "type":"CODE",
     "hide_input_from_viewers":false,
     "hide_output_from_viewers":false
    }
   }
  },
  {
   "cell_type":"code",
   "source":[
    "data.isnull().sum()"
   ],
   "execution_count":57,
   "outputs":[
    {
     "data":{
      "text\/html":[
       
      ]
     },
     "metadata":{
      
     },
     "output_type":"display_data"
    }
   ],
   "metadata":{
    "datalore":{
     "type":"CODE",
     "hide_input_from_viewers":false,
     "hide_output_from_viewers":false
    }
   }
  },
  {
   "cell_type":"code",
   "source":[
    "data.head()"
   ],
   "execution_count":58,
   "outputs":[
    {
     "data":{
      "text\/html":[
       "<div>\n",
       "<style scoped>\n",
       "    .dataframe tbody tr th:only-of-type {\n",
       "        vertical-align: middle;\n",
       "    }\n",
       "\n",
       "    .dataframe tbody tr th {\n",
       "        vertical-align: top;\n",
       "    }\n",
       "\n",
       "    .dataframe thead th {\n",
       "        text-align: right;\n",
       "    }\n",
       "<\/style>\n",
       "<table border=\"1\" class=\"dataframe\">\n",
       "  <thead>\n",
       "    <tr style=\"text-align: right;\">\n",
       "      <th><\/th>\n",
       "      <th>PRIMARY_KEY<\/th>\n",
       "      <th>STATE<\/th>\n",
       "      <th>YEAR<\/th>\n",
       "      <th>ENROLL<\/th>\n",
       "      <th>TOTAL_REVENUE<\/th>\n",
       "      <th>FEDERAL_REVENUE<\/th>\n",
       "      <th>STATE_REVENUE<\/th>\n",
       "      <th>LOCAL_REVENUE<\/th>\n",
       "      <th>TOTAL_EXPENDITURE<\/th>\n",
       "      <th>INSTRUCTION_EXPENDITURE<\/th>\n",
       "      <th>...<\/th>\n",
       "      <th>GRADES_4_G<\/th>\n",
       "      <th>GRADES_8_G<\/th>\n",
       "      <th>GRADES_12_G<\/th>\n",
       "      <th>GRADES_1_8_G<\/th>\n",
       "      <th>GRADES_9_12_G<\/th>\n",
       "      <th>GRADES_ALL_G<\/th>\n",
       "      <th>AVG_MATH_4_SCORE<\/th>\n",
       "      <th>AVG_MATH_8_SCORE<\/th>\n",
       "      <th>AVG_READING_4_SCORE<\/th>\n",
       "      <th>AVG_READING_8_SCORE<\/th>\n",
       "    <\/tr>\n",
       "  <\/thead>\n",
       "  <tbody>\n",
       "    <tr>\n",
       "      <th>0<\/th>\n",
       "      <td>1992_ALABAMA<\/td>\n",
       "      <td>ALABAMA<\/td>\n",
       "      <td>1992<\/td>\n",
       "      <td>NaN<\/td>\n",
       "      <td>2678885.0<\/td>\n",
       "      <td>304177.0<\/td>\n",
       "      <td>1659028.0<\/td>\n",
       "      <td>715680.0<\/td>\n",
       "      <td>2653798.0<\/td>\n",
       "      <td>1481703.0<\/td>\n",
       "      <td>...<\/td>\n",
       "      <td>57948.0<\/td>\n",
       "      <td>58025.0<\/td>\n",
       "      <td>41167.0<\/td>\n",
       "      <td>NaN<\/td>\n",
       "      <td>NaN<\/td>\n",
       "      <td>731634.0<\/td>\n",
       "      <td>208.0<\/td>\n",
       "      <td>252.0<\/td>\n",
       "      <td>207.0<\/td>\n",
       "      <td>NaN<\/td>\n",
       "    <\/tr>\n",
       "    <tr>\n",
       "      <th>1<\/th>\n",
       "      <td>1992_ALASKA<\/td>\n",
       "      <td>ALASKA<\/td>\n",
       "      <td>1992<\/td>\n",
       "      <td>NaN<\/td>\n",
       "      <td>1049591.0<\/td>\n",
       "      <td>106780.0<\/td>\n",
       "      <td>720711.0<\/td>\n",
       "      <td>222100.0<\/td>\n",
       "      <td>972488.0<\/td>\n",
       "      <td>498362.0<\/td>\n",
       "      <td>...<\/td>\n",
       "      <td>9748.0<\/td>\n",
       "      <td>8789.0<\/td>\n",
       "      <td>6714.0<\/td>\n",
       "      <td>NaN<\/td>\n",
       "      <td>NaN<\/td>\n",
       "      <td>122487.0<\/td>\n",
       "      <td>NaN<\/td>\n",
       "      <td>NaN<\/td>\n",
       "      <td>NaN<\/td>\n",
       "      <td>NaN<\/td>\n",
       "    <\/tr>\n",
       "    <tr>\n",
       "      <th>2<\/th>\n",
       "      <td>1992_ARIZONA<\/td>\n",
       "      <td>ARIZONA<\/td>\n",
       "      <td>1992<\/td>\n",
       "      <td>NaN<\/td>\n",
       "      <td>3258079.0<\/td>\n",
       "      <td>297888.0<\/td>\n",
       "      <td>1369815.0<\/td>\n",
       "      <td>1590376.0<\/td>\n",
       "      <td>3401580.0<\/td>\n",
       "      <td>1435908.0<\/td>\n",
       "      <td>...<\/td>\n",
       "      <td>55433.0<\/td>\n",
       "      <td>49081.0<\/td>\n",
       "      <td>37410.0<\/td>\n",
       "      <td>NaN<\/td>\n",
       "      <td>NaN<\/td>\n",
       "      <td>673477.0<\/td>\n",
       "      <td>215.0<\/td>\n",
       "      <td>265.0<\/td>\n",
       "      <td>209.0<\/td>\n",
       "      <td>NaN<\/td>\n",
       "    <\/tr>\n",
       "    <tr>\n",
       "      <th>3<\/th>\n",
       "      <td>1992_ARKANSAS<\/td>\n",
       "      <td>ARKANSAS<\/td>\n",
       "      <td>1992<\/td>\n",
       "      <td>NaN<\/td>\n",
       "      <td>1711959.0<\/td>\n",
       "      <td>178571.0<\/td>\n",
       "      <td>958785.0<\/td>\n",
       "      <td>574603.0<\/td>\n",
       "      <td>1743022.0<\/td>\n",
       "      <td>964323.0<\/td>\n",
       "      <td>...<\/td>\n",
       "      <td>34632.0<\/td>\n",
       "      <td>36011.0<\/td>\n",
       "      <td>27651.0<\/td>\n",
       "      <td>NaN<\/td>\n",
       "      <td>NaN<\/td>\n",
       "      <td>441490.0<\/td>\n",
       "      <td>210.0<\/td>\n",
       "      <td>256.0<\/td>\n",
       "      <td>211.0<\/td>\n",
       "      <td>NaN<\/td>\n",
       "    <\/tr>\n",
       "    <tr>\n",
       "      <th>4<\/th>\n",
       "      <td>1992_CALIFORNIA<\/td>\n",
       "      <td>CALIFORNIA<\/td>\n",
       "      <td>1992<\/td>\n",
       "      <td>NaN<\/td>\n",
       "      <td>26260025.0<\/td>\n",
       "      <td>2072470.0<\/td>\n",
       "      <td>16546514.0<\/td>\n",
       "      <td>7641041.0<\/td>\n",
       "      <td>27138832.0<\/td>\n",
       "      <td>14358922.0<\/td>\n",
       "      <td>...<\/td>\n",
       "      <td>418418.0<\/td>\n",
       "      <td>363296.0<\/td>\n",
       "      <td>270675.0<\/td>\n",
       "      <td>NaN<\/td>\n",
       "      <td>NaN<\/td>\n",
       "      <td>5254844.0<\/td>\n",
       "      <td>208.0<\/td>\n",
       "      <td>261.0<\/td>\n",
       "      <td>202.0<\/td>\n",
       "      <td>NaN<\/td>\n",
       "    <\/tr>\n",
       "  <\/tbody>\n",
       "<\/table>\n",
       "<p>5 rows × 25 columns<\/p>\n",
       "<\/div>"
      ]
     },
     "metadata":{
      
     },
     "output_type":"display_data"
    }
   ],
   "metadata":{
    "datalore":{
     "type":"CODE",
     "hide_input_from_viewers":false,
     "hide_output_from_viewers":false
    }
   }
  },
  {
   "cell_type":"code",
   "source":[
    "data.dtypes"
   ],
   "execution_count":59,
   "outputs":[
    {
     "data":{
      "text\/html":[
       
      ]
     },
     "metadata":{
      
     },
     "output_type":"display_data"
    }
   ],
   "metadata":{
    "datalore":{
     "type":"CODE",
     "hide_input_from_viewers":false,
     "hide_output_from_viewers":false
    }
   }
  },
  {
   "cell_type":"code",
   "source":[
    "#данный признак является единственным категориальным в данном датасете, \n",
    "#поэтому кодирование будет проводиться относительно данного признака\n",
    "state_df = pd.DataFrame(data, columns=['STATE'])"
   ],
   "execution_count":60,
   "outputs":[
    
   ],
   "metadata":{
    "datalore":{
     "type":"CODE",
     "hide_input_from_viewers":false,
     "hide_output_from_viewers":false
    }
   }
  },
  {
   "cell_type":"code",
   "source":[
    "#Выполним преобразование категориальных признаков в количественные\n",
    "le = LabelEncoder()\n",
    "cat_enc_le = le.fit_transform(state_df['STATE'])"
   ],
   "execution_count":61,
   "outputs":[
    
   ],
   "metadata":{
    "datalore":{
     "type":"CODE",
     "hide_input_from_viewers":false,
     "hide_output_from_viewers":false
    }
   }
  },
  {
   "cell_type":"code",
   "source":[
    "# Наименования категорий в соответствии с порядковыми номерами\n",
    "\n",
    "# Свойство называется classes, потому что предполагается что мы решаем \n",
    "# задачу классификации и каждое значение категории соответствует \n",
    "# какому-либо классу целевого признака\n",
    "\n",
    "le.classes_"
   ],
   "execution_count":62,
   "outputs":[
    {
     "data":{
      "text\/html":[
       
      ]
     },
     "metadata":{
      
     },
     "output_type":"display_data"
    }
   ],
   "metadata":{
    "datalore":{
     "type":"CODE",
     "hide_input_from_viewers":false,
     "hide_output_from_viewers":false
    }
   }
  },
  {
   "cell_type":"code",
   "source":[
    "cat_enc_le"
   ],
   "execution_count":63,
   "outputs":[
    {
     "data":{
      "text\/html":[
       
      ]
     },
     "metadata":{
      
     },
     "output_type":"display_data"
    }
   ],
   "metadata":{
    "datalore":{
     "type":"CODE",
     "hide_input_from_viewers":false,
     "hide_output_from_viewers":false
    }
   }
  },
  {
   "cell_type":"code",
   "source":[
    "ohe = OneHotEncoder()\n",
    "cat_enc_ohe = ohe.fit_transform(state_df[['STATE']])"
   ],
   "execution_count":64,
   "outputs":[
    
   ],
   "metadata":{
    "datalore":{
     "type":"CODE",
     "hide_input_from_viewers":false,
     "hide_output_from_viewers":false
    }
   }
  },
  {
   "cell_type":"code",
   "source":[
    "cat_enc_ohe"
   ],
   "execution_count":65,
   "outputs":[
    {
     "data":{
      "text\/plain":[
       "<1715x53 sparse matrix of type '<class 'numpy.float64'>'\n",
       "\twith 1715 stored elements in Compressed Sparse Row format>"
      ]
     },
     "metadata":{
      
     },
     "output_type":"display_data"
    }
   ],
   "metadata":{
    "datalore":{
     "type":"CODE",
     "hide_input_from_viewers":false,
     "hide_output_from_viewers":false
    }
   }
  },
  {
   "cell_type":"code",
   "source":[
    "cat_enc_ohe.todense()[0:50]"
   ],
   "execution_count":66,
   "outputs":[
    {
     "data":{
      "text\/html":[
       
      ]
     },
     "metadata":{
      
     },
     "output_type":"display_data"
    }
   ],
   "metadata":{
    "datalore":{
     "type":"CODE",
     "hide_input_from_viewers":false,
     "hide_output_from_viewers":false
    }
   }
  },
  {
   "cell_type":"code",
   "source":[
    "state_df.head(50)"
   ],
   "execution_count":67,
   "outputs":[
    {
     "data":{
      "text\/html":[
       "<div>\n",
       "<style scoped>\n",
       "    .dataframe tbody tr th:only-of-type {\n",
       "        vertical-align: middle;\n",
       "    }\n",
       "\n",
       "    .dataframe tbody tr th {\n",
       "        vertical-align: top;\n",
       "    }\n",
       "\n",
       "    .dataframe thead th {\n",
       "        text-align: right;\n",
       "    }\n",
       "<\/style>\n",
       "<table border=\"1\" class=\"dataframe\">\n",
       "  <thead>\n",
       "    <tr style=\"text-align: right;\">\n",
       "      <th><\/th>\n",
       "      <th>STATE<\/th>\n",
       "    <\/tr>\n",
       "  <\/thead>\n",
       "  <tbody>\n",
       "    <tr>\n",
       "      <th>0<\/th>\n",
       "      <td>ALABAMA<\/td>\n",
       "    <\/tr>\n",
       "    <tr>\n",
       "      <th>1<\/th>\n",
       "      <td>ALASKA<\/td>\n",
       "    <\/tr>\n",
       "    <tr>\n",
       "      <th>2<\/th>\n",
       "      <td>ARIZONA<\/td>\n",
       "    <\/tr>\n",
       "    <tr>\n",
       "      <th>3<\/th>\n",
       "      <td>ARKANSAS<\/td>\n",
       "    <\/tr>\n",
       "    <tr>\n",
       "      <th>4<\/th>\n",
       "      <td>CALIFORNIA<\/td>\n",
       "    <\/tr>\n",
       "    <tr>\n",
       "      <th>5<\/th>\n",
       "      <td>COLORADO<\/td>\n",
       "    <\/tr>\n",
       "    <tr>\n",
       "      <th>6<\/th>\n",
       "      <td>CONNECTICUT<\/td>\n",
       "    <\/tr>\n",
       "    <tr>\n",
       "      <th>7<\/th>\n",
       "      <td>DELAWARE<\/td>\n",
       "    <\/tr>\n",
       "    <tr>\n",
       "      <th>8<\/th>\n",
       "      <td>DISTRICT_OF_COLUMBIA<\/td>\n",
       "    <\/tr>\n",
       "    <tr>\n",
       "      <th>9<\/th>\n",
       "      <td>FLORIDA<\/td>\n",
       "    <\/tr>\n",
       "    <tr>\n",
       "      <th>10<\/th>\n",
       "      <td>GEORGIA<\/td>\n",
       "    <\/tr>\n",
       "    <tr>\n",
       "      <th>11<\/th>\n",
       "      <td>HAWAII<\/td>\n",
       "    <\/tr>\n",
       "    <tr>\n",
       "      <th>12<\/th>\n",
       "      <td>IDAHO<\/td>\n",
       "    <\/tr>\n",
       "    <tr>\n",
       "      <th>13<\/th>\n",
       "      <td>ILLINOIS<\/td>\n",
       "    <\/tr>\n",
       "    <tr>\n",
       "      <th>14<\/th>\n",
       "      <td>INDIANA<\/td>\n",
       "    <\/tr>\n",
       "    <tr>\n",
       "      <th>15<\/th>\n",
       "      <td>IOWA<\/td>\n",
       "    <\/tr>\n",
       "    <tr>\n",
       "      <th>16<\/th>\n",
       "      <td>KANSAS<\/td>\n",
       "    <\/tr>\n",
       "    <tr>\n",
       "      <th>17<\/th>\n",
       "      <td>KENTUCKY<\/td>\n",
       "    <\/tr>\n",
       "    <tr>\n",
       "      <th>18<\/th>\n",
       "      <td>LOUISIANA<\/td>\n",
       "    <\/tr>\n",
       "    <tr>\n",
       "      <th>19<\/th>\n",
       "      <td>MAINE<\/td>\n",
       "    <\/tr>\n",
       "    <tr>\n",
       "      <th>20<\/th>\n",
       "      <td>MARYLAND<\/td>\n",
       "    <\/tr>\n",
       "    <tr>\n",
       "      <th>21<\/th>\n",
       "      <td>MASSACHUSETTS<\/td>\n",
       "    <\/tr>\n",
       "    <tr>\n",
       "      <th>22<\/th>\n",
       "      <td>MICHIGAN<\/td>\n",
       "    <\/tr>\n",
       "    <tr>\n",
       "      <th>23<\/th>\n",
       "      <td>MINNESOTA<\/td>\n",
       "    <\/tr>\n",
       "    <tr>\n",
       "      <th>24<\/th>\n",
       "      <td>MISSISSIPPI<\/td>\n",
       "    <\/tr>\n",
       "    <tr>\n",
       "      <th>25<\/th>\n",
       "      <td>MISSOURI<\/td>\n",
       "    <\/tr>\n",
       "    <tr>\n",
       "      <th>26<\/th>\n",
       "      <td>MONTANA<\/td>\n",
       "    <\/tr>\n",
       "    <tr>\n",
       "      <th>27<\/th>\n",
       "      <td>NEBRASKA<\/td>\n",
       "    <\/tr>\n",
       "    <tr>\n",
       "      <th>28<\/th>\n",
       "      <td>NEVADA<\/td>\n",
       "    <\/tr>\n",
       "    <tr>\n",
       "      <th>29<\/th>\n",
       "      <td>NEW_HAMPSHIRE<\/td>\n",
       "    <\/tr>\n",
       "    <tr>\n",
       "      <th>30<\/th>\n",
       "      <td>NEW_JERSEY<\/td>\n",
       "    <\/tr>\n",
       "    <tr>\n",
       "      <th>31<\/th>\n",
       "      <td>NEW_MEXICO<\/td>\n",
       "    <\/tr>\n",
       "    <tr>\n",
       "      <th>32<\/th>\n",
       "      <td>NEW_YORK<\/td>\n",
       "    <\/tr>\n",
       "    <tr>\n",
       "      <th>33<\/th>\n",
       "      <td>NORTH_CAROLINA<\/td>\n",
       "    <\/tr>\n",
       "    <tr>\n",
       "      <th>34<\/th>\n",
       "      <td>NORTH_DAKOTA<\/td>\n",
       "    <\/tr>\n",
       "    <tr>\n",
       "      <th>35<\/th>\n",
       "      <td>OHIO<\/td>\n",
       "    <\/tr>\n",
       "    <tr>\n",
       "      <th>36<\/th>\n",
       "      <td>OKLAHOMA<\/td>\n",
       "    <\/tr>\n",
       "    <tr>\n",
       "      <th>37<\/th>\n",
       "      <td>OREGON<\/td>\n",
       "    <\/tr>\n",
       "    <tr>\n",
       "      <th>38<\/th>\n",
       "      <td>PENNSYLVANIA<\/td>\n",
       "    <\/tr>\n",
       "    <tr>\n",
       "      <th>39<\/th>\n",
       "      <td>RHODE_ISLAND<\/td>\n",
       "    <\/tr>\n",
       "    <tr>\n",
       "      <th>40<\/th>\n",
       "      <td>SOUTH_CAROLINA<\/td>\n",
       "    <\/tr>\n",
       "    <tr>\n",
       "      <th>41<\/th>\n",
       "      <td>SOUTH_DAKOTA<\/td>\n",
       "    <\/tr>\n",
       "    <tr>\n",
       "      <th>42<\/th>\n",
       "      <td>TENNESSEE<\/td>\n",
       "    <\/tr>\n",
       "    <tr>\n",
       "      <th>43<\/th>\n",
       "      <td>TEXAS<\/td>\n",
       "    <\/tr>\n",
       "    <tr>\n",
       "      <th>44<\/th>\n",
       "      <td>UTAH<\/td>\n",
       "    <\/tr>\n",
       "    <tr>\n",
       "      <th>45<\/th>\n",
       "      <td>VERMONT<\/td>\n",
       "    <\/tr>\n",
       "    <tr>\n",
       "      <th>46<\/th>\n",
       "      <td>VIRGINIA<\/td>\n",
       "    <\/tr>\n",
       "    <tr>\n",
       "      <th>47<\/th>\n",
       "      <td>WASHINGTON<\/td>\n",
       "    <\/tr>\n",
       "    <tr>\n",
       "      <th>48<\/th>\n",
       "      <td>WEST_VIRGINIA<\/td>\n",
       "    <\/tr>\n",
       "    <tr>\n",
       "      <th>49<\/th>\n",
       "      <td>WISCONSIN<\/td>\n",
       "    <\/tr>\n",
       "  <\/tbody>\n",
       "<\/table>\n",
       "<\/div>"
      ]
     },
     "metadata":{
      
     },
     "output_type":"display_data"
    }
   ],
   "metadata":{
    "datalore":{
     "type":"CODE",
     "hide_input_from_viewers":false,
     "hide_output_from_viewers":false
    }
   }
  },
  {
   "cell_type":"code",
   "source":[
    "#выполним MinMax масштабирование\n",
    "sc1 = MinMaxScaler() \n",
    "sc1_data = sc1.fit_transform(data[['GRADES_ALL_G']])"
   ],
   "execution_count":68,
   "outputs":[
    
   ],
   "metadata":{
    "datalore":{
     "type":"CODE",
     "hide_input_from_viewers":false,
     "hide_output_from_viewers":false
    }
   }
  },
  {
   "cell_type":"code",
   "source":[
    "plt.hist(data['GRADES_ALL_G'], 50)\n",
    "plt.show()"
   ],
   "execution_count":69,
   "outputs":[
    {
     "data":{
      "image\/png":"[encoded data removed]"
     },
     "metadata":{
      "image\/png":{
       
      }
     },
     "output_type":"display_data"
    }
   ],
   "metadata":{
    "datalore":{
     "type":"CODE",
     "hide_input_from_viewers":false,
     "hide_output_from_viewers":false
    }
   }
  },
  {
   "cell_type":"code",
   "source":[
    "plt.hist(sc1_data, 50)\n",
    "plt.show()"
   ],
   "execution_count":70,
   "outputs":[
    {
     "data":{
      "image\/png":"[encoded data removed]"
     },
     "metadata":{
      "image\/png":{
       
      }
     },
     "output_type":"display_data"
    }
   ],
   "metadata":{
    "datalore":{
     "type":"CODE",
     "hide_input_from_viewers":false,
     "hide_output_from_viewers":false
    }
   }
  },
  {
   "cell_type":"code",
   "source":[
    "#выполним масштабирование на основе Z-оценки\n",
    "sc2 = StandardScaler()\n",
    "sc2_data = sc2.fit_transform(data[['GRADES_ALL_G']])"
   ],
   "execution_count":71,
   "outputs":[
    
   ],
   "metadata":{
    "datalore":{
     "type":"CODE",
     "hide_input_from_viewers":false,
     "hide_output_from_viewers":false
    }
   }
  },
  {
   "cell_type":"code",
   "source":[
    "plt.hist(sc2_data, 50)\n",
    "plt.show()"
   ],
   "execution_count":72,
   "outputs":[
    {
     "data":{
      "image\/png":"[encoded data removed]"
     },
     "metadata":{
      "image\/png":{
       
      }
     },
     "output_type":"display_data"
    }
   ],
   "metadata":{
    "datalore":{
     "type":"CODE",
     "hide_input_from_viewers":false,
     "hide_output_from_viewers":false
    }
   }
  },
  {
   "cell_type":"code",
   "source":[
    "#Построение cкрипичной диаграммы (violin plot)\n",
    "sns.violinplot(x=data['ENROLL']) #диаграмма о количестве учащихся "
   ],
   "execution_count":73,
   "outputs":[
    {
     "data":{
      "text\/plain":[
       "<AxesSubplot:xlabel='ENROLL'>"
      ],
      "image\/png":"[encoded data removed]"
     },
     "metadata":{
      "image\/png":{
       
      }
     },
     "output_type":"display_data"
    }
   ],
   "metadata":{
    "datalore":{
     "type":"CODE",
     "hide_input_from_viewers":false,
     "hide_output_from_viewers":false
    }
   }
  }
 ],
 "metadata":{
  "datalore":{
   "version":1,
   "computation_mode":"JUPYTER",
   "package_manager":"pip",
   "base_environment":"default",
   "packages":[
    
   ]
  }
 },
 "nbformat":4,
 "nbformat_minor":4
}