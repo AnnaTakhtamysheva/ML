{
 "cells":[
  {
   "cell_type":"code",
   "source":[
    "from operator import itemgetter\n",
    "import matplotlib.pyplot as plt\n",
    "import matplotlib.ticker as ticker\n",
    "import numpy as np\n",
    "import math\n",
    "import numpy as np\n",
    "import pandas as pd\n",
    "from typing import Dict, Tuple\n",
    "from scipy import stats\n",
    "from sklearn.preprocessing import LabelEncoder\n",
    "from sklearn.model_selection import train_test_split\n",
    "from sklearn.neighbors import KNeighborsRegressor, KNeighborsClassifier\n",
    "from sklearn.model_selection import GridSearchCV, RandomizedSearchCV\n",
    "from sklearn.model_selection import learning_curve, validation_curve\n",
    "from sklearn.model_selection import cross_val_score, cross_validate\n",
    "from sklearn.model_selection import KFold, RepeatedKFold, LeaveOneOut, LeavePOut, ShuffleSplit, StratifiedKFold\n",
    "from sklearn.metrics import accuracy_score, balanced_accuracy_score\n",
    "from sklearn.metrics import plot_confusion_matrix\n",
    "from sklearn.metrics import precision_score, recall_score, f1_score, classification_report\n",
    "from sklearn.metrics import confusion_matrix\n",
    "from sklearn.metrics import mean_absolute_error, mean_squared_error, mean_squared_log_error, median_absolute_error, r2_score \n",
    "from sklearn.metrics import roc_curve, roc_auc_score\n",
    "import seaborn as sns\n",
    "import matplotlib.pyplot as plt\n",
    "%matplotlib inline \n",
    "sns.set(style=\"ticks\")"
   ],
   "execution_count":1,
   "outputs":[
    {
     "name":"stderr",
     "text":[
      "Matplotlib is building the font cache; this may take a moment.\n"
     ],
     "output_type":"stream"
    }
   ],
   "metadata":{
    "datalore":{
     "type":"CODE",
     "hide_input_from_viewers":false,
     "hide_output_from_viewers":false
    }
   }
  },
  {
   "cell_type":"code",
   "source":[
    "data = pd.read_csv('BankChurners.csv', encoding='windows-1252')"
   ],
   "execution_count":2,
   "outputs":[
    
   ],
   "metadata":{
    "datalore":{
     "type":"CODE",
     "hide_input_from_viewers":false,
     "hide_output_from_viewers":false
    }
   }
  },
  {
   "cell_type":"code",
   "source":[
    "data.head()"
   ],
   "execution_count":3,
   "outputs":[
    {
     "data":{
      "text\/html":[
       "<div>\n",
       "<style scoped>\n",
       "    .dataframe tbody tr th:only-of-type {\n",
       "        vertical-align: middle;\n",
       "    }\n",
       "\n",
       "    .dataframe tbody tr th {\n",
       "        vertical-align: top;\n",
       "    }\n",
       "\n",
       "    .dataframe thead th {\n",
       "        text-align: right;\n",
       "    }\n",
       "<\/style>\n",
       "<table border=\"1\" class=\"dataframe\">\n",
       "  <thead>\n",
       "    <tr style=\"text-align: right;\">\n",
       "      <th><\/th>\n",
       "      <th>CLIENTNUM<\/th>\n",
       "      <th>Attrition_Flag<\/th>\n",
       "      <th>Customer_Age<\/th>\n",
       "      <th>Gender<\/th>\n",
       "      <th>Dependent_count<\/th>\n",
       "      <th>Education_Level<\/th>\n",
       "      <th>Marital_Status<\/th>\n",
       "      <th>Income_Category<\/th>\n",
       "      <th>Card_Category<\/th>\n",
       "      <th>Months_on_book<\/th>\n",
       "      <th>...<\/th>\n",
       "      <th>Credit_Limit<\/th>\n",
       "      <th>Total_Revolving_Bal<\/th>\n",
       "      <th>Avg_Open_To_Buy<\/th>\n",
       "      <th>Total_Amt_Chng_Q4_Q1<\/th>\n",
       "      <th>Total_Trans_Amt<\/th>\n",
       "      <th>Total_Trans_Ct<\/th>\n",
       "      <th>Total_Ct_Chng_Q4_Q1<\/th>\n",
       "      <th>Avg_Utilization_Ratio<\/th>\n",
       "      <th>Naive_Bayes_Classifier_Attrition_Flag_Card_Category_Contacts_Count_12_mon_Dependent_count_Education_Level_Months_Inactive_12_mon_1<\/th>\n",
       "      <th>Naive_Bayes_Classifier_Attrition_Flag_Card_Category_Contacts_Count_12_mon_Dependent_count_Education_Level_Months_Inactive_12_mon_2<\/th>\n",
       "    <\/tr>\n",
       "  <\/thead>\n",
       "  <tbody>\n",
       "    <tr>\n",
       "      <th>0<\/th>\n",
       "      <td>768805383<\/td>\n",
       "      <td>Existing Customer<\/td>\n",
       "      <td>45<\/td>\n",
       "      <td>M<\/td>\n",
       "      <td>3<\/td>\n",
       "      <td>High School<\/td>\n",
       "      <td>Married<\/td>\n",
       "      <td>$60K - $80K<\/td>\n",
       "      <td>Blue<\/td>\n",
       "      <td>39<\/td>\n",
       "      <td>...<\/td>\n",
       "      <td>12691.0<\/td>\n",
       "      <td>777<\/td>\n",
       "      <td>11914.0<\/td>\n",
       "      <td>1.335<\/td>\n",
       "      <td>1144<\/td>\n",
       "      <td>42<\/td>\n",
       "      <td>1.625<\/td>\n",
       "      <td>0.061<\/td>\n",
       "      <td>0.000093<\/td>\n",
       "      <td>0.99991<\/td>\n",
       "    <\/tr>\n",
       "    <tr>\n",
       "      <th>1<\/th>\n",
       "      <td>818770008<\/td>\n",
       "      <td>Existing Customer<\/td>\n",
       "      <td>49<\/td>\n",
       "      <td>F<\/td>\n",
       "      <td>5<\/td>\n",
       "      <td>Graduate<\/td>\n",
       "      <td>Single<\/td>\n",
       "      <td>Less than $40K<\/td>\n",
       "      <td>Blue<\/td>\n",
       "      <td>44<\/td>\n",
       "      <td>...<\/td>\n",
       "      <td>8256.0<\/td>\n",
       "      <td>864<\/td>\n",
       "      <td>7392.0<\/td>\n",
       "      <td>1.541<\/td>\n",
       "      <td>1291<\/td>\n",
       "      <td>33<\/td>\n",
       "      <td>3.714<\/td>\n",
       "      <td>0.105<\/td>\n",
       "      <td>0.000057<\/td>\n",
       "      <td>0.99994<\/td>\n",
       "    <\/tr>\n",
       "    <tr>\n",
       "      <th>2<\/th>\n",
       "      <td>713982108<\/td>\n",
       "      <td>Existing Customer<\/td>\n",
       "      <td>51<\/td>\n",
       "      <td>M<\/td>\n",
       "      <td>3<\/td>\n",
       "      <td>Graduate<\/td>\n",
       "      <td>Married<\/td>\n",
       "      <td>$80K - $120K<\/td>\n",
       "      <td>Blue<\/td>\n",
       "      <td>36<\/td>\n",
       "      <td>...<\/td>\n",
       "      <td>3418.0<\/td>\n",
       "      <td>0<\/td>\n",
       "      <td>3418.0<\/td>\n",
       "      <td>2.594<\/td>\n",
       "      <td>1887<\/td>\n",
       "      <td>20<\/td>\n",
       "      <td>2.333<\/td>\n",
       "      <td>0.000<\/td>\n",
       "      <td>0.000021<\/td>\n",
       "      <td>0.99998<\/td>\n",
       "    <\/tr>\n",
       "    <tr>\n",
       "      <th>3<\/th>\n",
       "      <td>769911858<\/td>\n",
       "      <td>Existing Customer<\/td>\n",
       "      <td>40<\/td>\n",
       "      <td>F<\/td>\n",
       "      <td>4<\/td>\n",
       "      <td>High School<\/td>\n",
       "      <td>Unknown<\/td>\n",
       "      <td>Less than $40K<\/td>\n",
       "      <td>Blue<\/td>\n",
       "      <td>34<\/td>\n",
       "      <td>...<\/td>\n",
       "      <td>3313.0<\/td>\n",
       "      <td>2517<\/td>\n",
       "      <td>796.0<\/td>\n",
       "      <td>1.405<\/td>\n",
       "      <td>1171<\/td>\n",
       "      <td>20<\/td>\n",
       "      <td>2.333<\/td>\n",
       "      <td>0.760<\/td>\n",
       "      <td>0.000134<\/td>\n",
       "      <td>0.99987<\/td>\n",
       "    <\/tr>\n",
       "    <tr>\n",
       "      <th>4<\/th>\n",
       "      <td>709106358<\/td>\n",
       "      <td>Existing Customer<\/td>\n",
       "      <td>40<\/td>\n",
       "      <td>M<\/td>\n",
       "      <td>3<\/td>\n",
       "      <td>Uneducated<\/td>\n",
       "      <td>Married<\/td>\n",
       "      <td>$60K - $80K<\/td>\n",
       "      <td>Blue<\/td>\n",
       "      <td>21<\/td>\n",
       "      <td>...<\/td>\n",
       "      <td>4716.0<\/td>\n",
       "      <td>0<\/td>\n",
       "      <td>4716.0<\/td>\n",
       "      <td>2.175<\/td>\n",
       "      <td>816<\/td>\n",
       "      <td>28<\/td>\n",
       "      <td>2.500<\/td>\n",
       "      <td>0.000<\/td>\n",
       "      <td>0.000022<\/td>\n",
       "      <td>0.99998<\/td>\n",
       "    <\/tr>\n",
       "  <\/tbody>\n",
       "<\/table>\n",
       "<p>5 rows × 23 columns<\/p>\n",
       "<\/div>"
      ]
     },
     "metadata":{
      
     },
     "output_type":"display_data"
    }
   ],
   "metadata":{
    "datalore":{
     "type":"CODE",
     "hide_input_from_viewers":false,
     "hide_output_from_viewers":false
    }
   }
  },
  {
   "cell_type":"code",
   "source":[
    "# размер набора данных\n",
    "data.shape"
   ],
   "execution_count":4,
   "outputs":[
    {
     "data":{
      "text\/plain":[
       "(10127, 23)"
      ]
     },
     "metadata":{
      
     },
     "output_type":"display_data"
    }
   ],
   "metadata":{
    "datalore":{
     "type":"CODE",
     "hide_input_from_viewers":false,
     "hide_output_from_viewers":false
    }
   }
  },
  {
   "cell_type":"code",
   "source":[
    "# проверим есть ли пропущенные значения\n",
    "data.isnull().sum()"
   ],
   "execution_count":5,
   "outputs":[
    {
     "data":{
      "text\/html":[
       
      ]
     },
     "metadata":{
      
     },
     "output_type":"display_data"
    }
   ],
   "metadata":{
    "datalore":{
     "type":"CODE",
     "hide_input_from_viewers":false,
     "hide_output_from_viewers":false
    }
   }
  },
  {
   "cell_type":"code",
   "source":[
    "# Дублирующиеся значения\n",
    "data.duplicated().sum()"
   ],
   "execution_count":6,
   "outputs":[
    {
     "data":{
      "text\/plain":[
       "0"
      ]
     },
     "metadata":{
      
     },
     "output_type":"display_data"
    }
   ],
   "metadata":{
    "datalore":{
     "type":"CODE",
     "hide_input_from_viewers":false,
     "hide_output_from_viewers":false
    }
   }
  },
  {
   "cell_type":"code",
   "source":[
    "data.dtypes"
   ],
   "execution_count":7,
   "outputs":[
    {
     "data":{
      "text\/html":[
       
      ]
     },
     "metadata":{
      
     },
     "output_type":"display_data"
    }
   ],
   "metadata":{
    "datalore":{
     "type":"CODE",
     "hide_input_from_viewers":false,
     "hide_output_from_viewers":false
    }
   }
  },
  {
   "cell_type":"code",
   "source":[
    "# Статистические характеристки датасета\n",
    "data.describe()"
   ],
   "execution_count":8,
   "outputs":[
    {
     "data":{
      "text\/html":[
       "<div>\n",
       "<style scoped>\n",
       "    .dataframe tbody tr th:only-of-type {\n",
       "        vertical-align: middle;\n",
       "    }\n",
       "\n",
       "    .dataframe tbody tr th {\n",
       "        vertical-align: top;\n",
       "    }\n",
       "\n",
       "    .dataframe thead th {\n",
       "        text-align: right;\n",
       "    }\n",
       "<\/style>\n",
       "<table border=\"1\" class=\"dataframe\">\n",
       "  <thead>\n",
       "    <tr style=\"text-align: right;\">\n",
       "      <th><\/th>\n",
       "      <th>CLIENTNUM<\/th>\n",
       "      <th>Customer_Age<\/th>\n",
       "      <th>Dependent_count<\/th>\n",
       "      <th>Months_on_book<\/th>\n",
       "      <th>Total_Relationship_Count<\/th>\n",
       "      <th>Months_Inactive_12_mon<\/th>\n",
       "      <th>Contacts_Count_12_mon<\/th>\n",
       "      <th>Credit_Limit<\/th>\n",
       "      <th>Total_Revolving_Bal<\/th>\n",
       "      <th>Avg_Open_To_Buy<\/th>\n",
       "      <th>Total_Amt_Chng_Q4_Q1<\/th>\n",
       "      <th>Total_Trans_Amt<\/th>\n",
       "      <th>Total_Trans_Ct<\/th>\n",
       "      <th>Total_Ct_Chng_Q4_Q1<\/th>\n",
       "      <th>Avg_Utilization_Ratio<\/th>\n",
       "      <th>Naive_Bayes_Classifier_Attrition_Flag_Card_Category_Contacts_Count_12_mon_Dependent_count_Education_Level_Months_Inactive_12_mon_1<\/th>\n",
       "      <th>Naive_Bayes_Classifier_Attrition_Flag_Card_Category_Contacts_Count_12_mon_Dependent_count_Education_Level_Months_Inactive_12_mon_2<\/th>\n",
       "    <\/tr>\n",
       "  <\/thead>\n",
       "  <tbody>\n",
       "    <tr>\n",
       "      <th>count<\/th>\n",
       "      <td>1.012700e+04<\/td>\n",
       "      <td>10127.000000<\/td>\n",
       "      <td>10127.000000<\/td>\n",
       "      <td>10127.000000<\/td>\n",
       "      <td>10127.000000<\/td>\n",
       "      <td>10127.000000<\/td>\n",
       "      <td>10127.000000<\/td>\n",
       "      <td>10127.000000<\/td>\n",
       "      <td>10127.000000<\/td>\n",
       "      <td>10127.000000<\/td>\n",
       "      <td>10127.000000<\/td>\n",
       "      <td>10127.000000<\/td>\n",
       "      <td>10127.000000<\/td>\n",
       "      <td>10127.000000<\/td>\n",
       "      <td>10127.000000<\/td>\n",
       "      <td>10127.000000<\/td>\n",
       "      <td>10127.000000<\/td>\n",
       "    <\/tr>\n",
       "    <tr>\n",
       "      <th>mean<\/th>\n",
       "      <td>7.391776e+08<\/td>\n",
       "      <td>46.325960<\/td>\n",
       "      <td>2.346203<\/td>\n",
       "      <td>35.928409<\/td>\n",
       "      <td>3.812580<\/td>\n",
       "      <td>2.341167<\/td>\n",
       "      <td>2.455317<\/td>\n",
       "      <td>8631.953698<\/td>\n",
       "      <td>1162.814061<\/td>\n",
       "      <td>7469.139637<\/td>\n",
       "      <td>0.759941<\/td>\n",
       "      <td>4404.086304<\/td>\n",
       "      <td>64.858695<\/td>\n",
       "      <td>0.712222<\/td>\n",
       "      <td>0.274894<\/td>\n",
       "      <td>0.159997<\/td>\n",
       "      <td>0.840003<\/td>\n",
       "    <\/tr>\n",
       "    <tr>\n",
       "      <th>std<\/th>\n",
       "      <td>3.690378e+07<\/td>\n",
       "      <td>8.016814<\/td>\n",
       "      <td>1.298908<\/td>\n",
       "      <td>7.986416<\/td>\n",
       "      <td>1.554408<\/td>\n",
       "      <td>1.010622<\/td>\n",
       "      <td>1.106225<\/td>\n",
       "      <td>9088.776650<\/td>\n",
       "      <td>814.987335<\/td>\n",
       "      <td>9090.685324<\/td>\n",
       "      <td>0.219207<\/td>\n",
       "      <td>3397.129254<\/td>\n",
       "      <td>23.472570<\/td>\n",
       "      <td>0.238086<\/td>\n",
       "      <td>0.275691<\/td>\n",
       "      <td>0.365301<\/td>\n",
       "      <td>0.365301<\/td>\n",
       "    <\/tr>\n",
       "    <tr>\n",
       "      <th>min<\/th>\n",
       "      <td>7.080821e+08<\/td>\n",
       "      <td>26.000000<\/td>\n",
       "      <td>0.000000<\/td>\n",
       "      <td>13.000000<\/td>\n",
       "      <td>1.000000<\/td>\n",
       "      <td>0.000000<\/td>\n",
       "      <td>0.000000<\/td>\n",
       "      <td>1438.300000<\/td>\n",
       "      <td>0.000000<\/td>\n",
       "      <td>3.000000<\/td>\n",
       "      <td>0.000000<\/td>\n",
       "      <td>510.000000<\/td>\n",
       "      <td>10.000000<\/td>\n",
       "      <td>0.000000<\/td>\n",
       "      <td>0.000000<\/td>\n",
       "      <td>0.000008<\/td>\n",
       "      <td>0.000420<\/td>\n",
       "    <\/tr>\n",
       "    <tr>\n",
       "      <th>25%<\/th>\n",
       "      <td>7.130368e+08<\/td>\n",
       "      <td>41.000000<\/td>\n",
       "      <td>1.000000<\/td>\n",
       "      <td>31.000000<\/td>\n",
       "      <td>3.000000<\/td>\n",
       "      <td>2.000000<\/td>\n",
       "      <td>2.000000<\/td>\n",
       "      <td>2555.000000<\/td>\n",
       "      <td>359.000000<\/td>\n",
       "      <td>1324.500000<\/td>\n",
       "      <td>0.631000<\/td>\n",
       "      <td>2155.500000<\/td>\n",
       "      <td>45.000000<\/td>\n",
       "      <td>0.582000<\/td>\n",
       "      <td>0.023000<\/td>\n",
       "      <td>0.000099<\/td>\n",
       "      <td>0.999660<\/td>\n",
       "    <\/tr>\n",
       "    <tr>\n",
       "      <th>50%<\/th>\n",
       "      <td>7.179264e+08<\/td>\n",
       "      <td>46.000000<\/td>\n",
       "      <td>2.000000<\/td>\n",
       "      <td>36.000000<\/td>\n",
       "      <td>4.000000<\/td>\n",
       "      <td>2.000000<\/td>\n",
       "      <td>2.000000<\/td>\n",
       "      <td>4549.000000<\/td>\n",
       "      <td>1276.000000<\/td>\n",
       "      <td>3474.000000<\/td>\n",
       "      <td>0.736000<\/td>\n",
       "      <td>3899.000000<\/td>\n",
       "      <td>67.000000<\/td>\n",
       "      <td>0.702000<\/td>\n",
       "      <td>0.176000<\/td>\n",
       "      <td>0.000181<\/td>\n",
       "      <td>0.999820<\/td>\n",
       "    <\/tr>\n",
       "    <tr>\n",
       "      <th>75%<\/th>\n",
       "      <td>7.731435e+08<\/td>\n",
       "      <td>52.000000<\/td>\n",
       "      <td>3.000000<\/td>\n",
       "      <td>40.000000<\/td>\n",
       "      <td>5.000000<\/td>\n",
       "      <td>3.000000<\/td>\n",
       "      <td>3.000000<\/td>\n",
       "      <td>11067.500000<\/td>\n",
       "      <td>1784.000000<\/td>\n",
       "      <td>9859.000000<\/td>\n",
       "      <td>0.859000<\/td>\n",
       "      <td>4741.000000<\/td>\n",
       "      <td>81.000000<\/td>\n",
       "      <td>0.818000<\/td>\n",
       "      <td>0.503000<\/td>\n",
       "      <td>0.000337<\/td>\n",
       "      <td>0.999900<\/td>\n",
       "    <\/tr>\n",
       "    <tr>\n",
       "      <th>max<\/th>\n",
       "      <td>8.283431e+08<\/td>\n",
       "      <td>73.000000<\/td>\n",
       "      <td>5.000000<\/td>\n",
       "      <td>56.000000<\/td>\n",
       "      <td>6.000000<\/td>\n",
       "      <td>6.000000<\/td>\n",
       "      <td>6.000000<\/td>\n",
       "      <td>34516.000000<\/td>\n",
       "      <td>2517.000000<\/td>\n",
       "      <td>34516.000000<\/td>\n",
       "      <td>3.397000<\/td>\n",
       "      <td>18484.000000<\/td>\n",
       "      <td>139.000000<\/td>\n",
       "      <td>3.714000<\/td>\n",
       "      <td>0.999000<\/td>\n",
       "      <td>0.999580<\/td>\n",
       "      <td>0.999990<\/td>\n",
       "    <\/tr>\n",
       "  <\/tbody>\n",
       "<\/table>\n",
       "<\/div>"
      ]
     },
     "metadata":{
      
     },
     "output_type":"display_data"
    }
   ],
   "metadata":{
    "datalore":{
     "type":"CODE",
     "hide_input_from_viewers":false,
     "hide_output_from_viewers":false
    }
   }
  },
  {
   "cell_type":"code",
   "source":[
    "le = LabelEncoder()\n",
    "le.fit(data['Attrition_Flag'])\n",
    "data['Attrition_Flag_new']=le.transform(data['Attrition_Flag'])"
   ],
   "execution_count":9,
   "outputs":[
    
   ],
   "metadata":{
    "datalore":{
     "type":"CODE",
     "hide_input_from_viewers":false,
     "hide_output_from_viewers":false
    }
   }
  },
  {
   "cell_type":"code",
   "source":[
    "le.fit(data['Gender'])\n",
    "data['Gender_new']=le.transform(data['Gender'])"
   ],
   "execution_count":10,
   "outputs":[
    
   ],
   "metadata":{
    "datalore":{
     "type":"CODE",
     "hide_input_from_viewers":false,
     "hide_output_from_viewers":false
    }
   }
  },
  {
   "cell_type":"code",
   "source":[
    "le.fit(data['Education_Level'])\n",
    "data['Education_Level_new']=le.transform(data['Education_Level'])"
   ],
   "execution_count":11,
   "outputs":[
    
   ],
   "metadata":{
    "datalore":{
     "type":"CODE",
     "hide_input_from_viewers":false,
     "hide_output_from_viewers":false
    }
   }
  },
  {
   "cell_type":"code",
   "source":[
    "le.fit(data['Marital_Status'])\n",
    "data['Marital_Status_new']=le.transform(data['Marital_Status'])"
   ],
   "execution_count":12,
   "outputs":[
    
   ],
   "metadata":{
    "datalore":{
     "type":"CODE",
     "hide_input_from_viewers":false,
     "hide_output_from_viewers":false
    }
   }
  },
  {
   "cell_type":"code",
   "source":[
    "le.fit(data['Income_Category'])\n",
    "data['Income_Category_new']=le.transform(data['Income_Category'])"
   ],
   "execution_count":13,
   "outputs":[
    
   ],
   "metadata":{
    "datalore":{
     "type":"CODE",
     "hide_input_from_viewers":false,
     "hide_output_from_viewers":false
    }
   }
  },
  {
   "cell_type":"code",
   "source":[
    "le.fit(data['Card_Category'])\n",
    "data['Card_Category_new']=le.transform(data['Card_Category'])"
   ],
   "execution_count":14,
   "outputs":[
    
   ],
   "metadata":{
    "datalore":{
     "type":"CODE",
     "hide_input_from_viewers":false,
     "hide_output_from_viewers":false
    }
   }
  },
  {
   "cell_type":"code",
   "source":[
    "data.head()"
   ],
   "execution_count":15,
   "outputs":[
    {
     "data":{
      "text\/html":[
       "<div>\n",
       "<style scoped>\n",
       "    .dataframe tbody tr th:only-of-type {\n",
       "        vertical-align: middle;\n",
       "    }\n",
       "\n",
       "    .dataframe tbody tr th {\n",
       "        vertical-align: top;\n",
       "    }\n",
       "\n",
       "    .dataframe thead th {\n",
       "        text-align: right;\n",
       "    }\n",
       "<\/style>\n",
       "<table border=\"1\" class=\"dataframe\">\n",
       "  <thead>\n",
       "    <tr style=\"text-align: right;\">\n",
       "      <th><\/th>\n",
       "      <th>CLIENTNUM<\/th>\n",
       "      <th>Attrition_Flag<\/th>\n",
       "      <th>Customer_Age<\/th>\n",
       "      <th>Gender<\/th>\n",
       "      <th>Dependent_count<\/th>\n",
       "      <th>Education_Level<\/th>\n",
       "      <th>Marital_Status<\/th>\n",
       "      <th>Income_Category<\/th>\n",
       "      <th>Card_Category<\/th>\n",
       "      <th>Months_on_book<\/th>\n",
       "      <th>...<\/th>\n",
       "      <th>Total_Ct_Chng_Q4_Q1<\/th>\n",
       "      <th>Avg_Utilization_Ratio<\/th>\n",
       "      <th>Naive_Bayes_Classifier_Attrition_Flag_Card_Category_Contacts_Count_12_mon_Dependent_count_Education_Level_Months_Inactive_12_mon_1<\/th>\n",
       "      <th>Naive_Bayes_Classifier_Attrition_Flag_Card_Category_Contacts_Count_12_mon_Dependent_count_Education_Level_Months_Inactive_12_mon_2<\/th>\n",
       "      <th>Attrition_Flag_new<\/th>\n",
       "      <th>Gender_new<\/th>\n",
       "      <th>Education_Level_new<\/th>\n",
       "      <th>Marital_Status_new<\/th>\n",
       "      <th>Income_Category_new<\/th>\n",
       "      <th>Card_Category_new<\/th>\n",
       "    <\/tr>\n",
       "  <\/thead>\n",
       "  <tbody>\n",
       "    <tr>\n",
       "      <th>0<\/th>\n",
       "      <td>768805383<\/td>\n",
       "      <td>Existing Customer<\/td>\n",
       "      <td>45<\/td>\n",
       "      <td>M<\/td>\n",
       "      <td>3<\/td>\n",
       "      <td>High School<\/td>\n",
       "      <td>Married<\/td>\n",
       "      <td>$60K - $80K<\/td>\n",
       "      <td>Blue<\/td>\n",
       "      <td>39<\/td>\n",
       "      <td>...<\/td>\n",
       "      <td>1.625<\/td>\n",
       "      <td>0.061<\/td>\n",
       "      <td>0.000093<\/td>\n",
       "      <td>0.99991<\/td>\n",
       "      <td>1<\/td>\n",
       "      <td>1<\/td>\n",
       "      <td>3<\/td>\n",
       "      <td>1<\/td>\n",
       "      <td>2<\/td>\n",
       "      <td>0<\/td>\n",
       "    <\/tr>\n",
       "    <tr>\n",
       "      <th>1<\/th>\n",
       "      <td>818770008<\/td>\n",
       "      <td>Existing Customer<\/td>\n",
       "      <td>49<\/td>\n",
       "      <td>F<\/td>\n",
       "      <td>5<\/td>\n",
       "      <td>Graduate<\/td>\n",
       "      <td>Single<\/td>\n",
       "      <td>Less than $40K<\/td>\n",
       "      <td>Blue<\/td>\n",
       "      <td>44<\/td>\n",
       "      <td>...<\/td>\n",
       "      <td>3.714<\/td>\n",
       "      <td>0.105<\/td>\n",
       "      <td>0.000057<\/td>\n",
       "      <td>0.99994<\/td>\n",
       "      <td>1<\/td>\n",
       "      <td>0<\/td>\n",
       "      <td>2<\/td>\n",
       "      <td>2<\/td>\n",
       "      <td>4<\/td>\n",
       "      <td>0<\/td>\n",
       "    <\/tr>\n",
       "    <tr>\n",
       "      <th>2<\/th>\n",
       "      <td>713982108<\/td>\n",
       "      <td>Existing Customer<\/td>\n",
       "      <td>51<\/td>\n",
       "      <td>M<\/td>\n",
       "      <td>3<\/td>\n",
       "      <td>Graduate<\/td>\n",
       "      <td>Married<\/td>\n",
       "      <td>$80K - $120K<\/td>\n",
       "      <td>Blue<\/td>\n",
       "      <td>36<\/td>\n",
       "      <td>...<\/td>\n",
       "      <td>2.333<\/td>\n",
       "      <td>0.000<\/td>\n",
       "      <td>0.000021<\/td>\n",
       "      <td>0.99998<\/td>\n",
       "      <td>1<\/td>\n",
       "      <td>1<\/td>\n",
       "      <td>2<\/td>\n",
       "      <td>1<\/td>\n",
       "      <td>3<\/td>\n",
       "      <td>0<\/td>\n",
       "    <\/tr>\n",
       "    <tr>\n",
       "      <th>3<\/th>\n",
       "      <td>769911858<\/td>\n",
       "      <td>Existing Customer<\/td>\n",
       "      <td>40<\/td>\n",
       "      <td>F<\/td>\n",
       "      <td>4<\/td>\n",
       "      <td>High School<\/td>\n",
       "      <td>Unknown<\/td>\n",
       "      <td>Less than $40K<\/td>\n",
       "      <td>Blue<\/td>\n",
       "      <td>34<\/td>\n",
       "      <td>...<\/td>\n",
       "      <td>2.333<\/td>\n",
       "      <td>0.760<\/td>\n",
       "      <td>0.000134<\/td>\n",
       "      <td>0.99987<\/td>\n",
       "      <td>1<\/td>\n",
       "      <td>0<\/td>\n",
       "      <td>3<\/td>\n",
       "      <td>3<\/td>\n",
       "      <td>4<\/td>\n",
       "      <td>0<\/td>\n",
       "    <\/tr>\n",
       "    <tr>\n",
       "      <th>4<\/th>\n",
       "      <td>709106358<\/td>\n",
       "      <td>Existing Customer<\/td>\n",
       "      <td>40<\/td>\n",
       "      <td>M<\/td>\n",
       "      <td>3<\/td>\n",
       "      <td>Uneducated<\/td>\n",
       "      <td>Married<\/td>\n",
       "      <td>$60K - $80K<\/td>\n",
       "      <td>Blue<\/td>\n",
       "      <td>21<\/td>\n",
       "      <td>...<\/td>\n",
       "      <td>2.500<\/td>\n",
       "      <td>0.000<\/td>\n",
       "      <td>0.000022<\/td>\n",
       "      <td>0.99998<\/td>\n",
       "      <td>1<\/td>\n",
       "      <td>1<\/td>\n",
       "      <td>5<\/td>\n",
       "      <td>1<\/td>\n",
       "      <td>2<\/td>\n",
       "      <td>0<\/td>\n",
       "    <\/tr>\n",
       "  <\/tbody>\n",
       "<\/table>\n",
       "<p>5 rows × 29 columns<\/p>\n",
       "<\/div>"
      ]
     },
     "metadata":{
      
     },
     "output_type":"display_data"
    }
   ],
   "metadata":{
    "datalore":{
     "type":"CODE",
     "hide_input_from_viewers":false,
     "hide_output_from_viewers":false
    }
   }
  },
  {
   "cell_type":"code",
   "source":[
    "columns = ['Attrition_Flag', 'Gender', 'Education_Level', 'Marital_Status', 'Income_Category','Card_Category']\n",
    "data_new=data.drop(columns, inplace=True, axis=1) "
   ],
   "execution_count":16,
   "outputs":[
    
   ],
   "metadata":{
    "datalore":{
     "type":"CODE",
     "hide_input_from_viewers":false,
     "hide_output_from_viewers":false
    }
   }
  },
  {
   "cell_type":"code",
   "source":[
    "data.head()"
   ],
   "execution_count":17,
   "outputs":[
    {
     "data":{
      "text\/html":[
       "<div>\n",
       "<style scoped>\n",
       "    .dataframe tbody tr th:only-of-type {\n",
       "        vertical-align: middle;\n",
       "    }\n",
       "\n",
       "    .dataframe tbody tr th {\n",
       "        vertical-align: top;\n",
       "    }\n",
       "\n",
       "    .dataframe thead th {\n",
       "        text-align: right;\n",
       "    }\n",
       "<\/style>\n",
       "<table border=\"1\" class=\"dataframe\">\n",
       "  <thead>\n",
       "    <tr style=\"text-align: right;\">\n",
       "      <th><\/th>\n",
       "      <th>CLIENTNUM<\/th>\n",
       "      <th>Customer_Age<\/th>\n",
       "      <th>Dependent_count<\/th>\n",
       "      <th>Months_on_book<\/th>\n",
       "      <th>Total_Relationship_Count<\/th>\n",
       "      <th>Months_Inactive_12_mon<\/th>\n",
       "      <th>Contacts_Count_12_mon<\/th>\n",
       "      <th>Credit_Limit<\/th>\n",
       "      <th>Total_Revolving_Bal<\/th>\n",
       "      <th>Avg_Open_To_Buy<\/th>\n",
       "      <th>...<\/th>\n",
       "      <th>Total_Ct_Chng_Q4_Q1<\/th>\n",
       "      <th>Avg_Utilization_Ratio<\/th>\n",
       "      <th>Naive_Bayes_Classifier_Attrition_Flag_Card_Category_Contacts_Count_12_mon_Dependent_count_Education_Level_Months_Inactive_12_mon_1<\/th>\n",
       "      <th>Naive_Bayes_Classifier_Attrition_Flag_Card_Category_Contacts_Count_12_mon_Dependent_count_Education_Level_Months_Inactive_12_mon_2<\/th>\n",
       "      <th>Attrition_Flag_new<\/th>\n",
       "      <th>Gender_new<\/th>\n",
       "      <th>Education_Level_new<\/th>\n",
       "      <th>Marital_Status_new<\/th>\n",
       "      <th>Income_Category_new<\/th>\n",
       "      <th>Card_Category_new<\/th>\n",
       "    <\/tr>\n",
       "  <\/thead>\n",
       "  <tbody>\n",
       "    <tr>\n",
       "      <th>0<\/th>\n",
       "      <td>768805383<\/td>\n",
       "      <td>45<\/td>\n",
       "      <td>3<\/td>\n",
       "      <td>39<\/td>\n",
       "      <td>5<\/td>\n",
       "      <td>1<\/td>\n",
       "      <td>3<\/td>\n",
       "      <td>12691.0<\/td>\n",
       "      <td>777<\/td>\n",
       "      <td>11914.0<\/td>\n",
       "      <td>...<\/td>\n",
       "      <td>1.625<\/td>\n",
       "      <td>0.061<\/td>\n",
       "      <td>0.000093<\/td>\n",
       "      <td>0.99991<\/td>\n",
       "      <td>1<\/td>\n",
       "      <td>1<\/td>\n",
       "      <td>3<\/td>\n",
       "      <td>1<\/td>\n",
       "      <td>2<\/td>\n",
       "      <td>0<\/td>\n",
       "    <\/tr>\n",
       "    <tr>\n",
       "      <th>1<\/th>\n",
       "      <td>818770008<\/td>\n",
       "      <td>49<\/td>\n",
       "      <td>5<\/td>\n",
       "      <td>44<\/td>\n",
       "      <td>6<\/td>\n",
       "      <td>1<\/td>\n",
       "      <td>2<\/td>\n",
       "      <td>8256.0<\/td>\n",
       "      <td>864<\/td>\n",
       "      <td>7392.0<\/td>\n",
       "      <td>...<\/td>\n",
       "      <td>3.714<\/td>\n",
       "      <td>0.105<\/td>\n",
       "      <td>0.000057<\/td>\n",
       "      <td>0.99994<\/td>\n",
       "      <td>1<\/td>\n",
       "      <td>0<\/td>\n",
       "      <td>2<\/td>\n",
       "      <td>2<\/td>\n",
       "      <td>4<\/td>\n",
       "      <td>0<\/td>\n",
       "    <\/tr>\n",
       "    <tr>\n",
       "      <th>2<\/th>\n",
       "      <td>713982108<\/td>\n",
       "      <td>51<\/td>\n",
       "      <td>3<\/td>\n",
       "      <td>36<\/td>\n",
       "      <td>4<\/td>\n",
       "      <td>1<\/td>\n",
       "      <td>0<\/td>\n",
       "      <td>3418.0<\/td>\n",
       "      <td>0<\/td>\n",
       "      <td>3418.0<\/td>\n",
       "      <td>...<\/td>\n",
       "      <td>2.333<\/td>\n",
       "      <td>0.000<\/td>\n",
       "      <td>0.000021<\/td>\n",
       "      <td>0.99998<\/td>\n",
       "      <td>1<\/td>\n",
       "      <td>1<\/td>\n",
       "      <td>2<\/td>\n",
       "      <td>1<\/td>\n",
       "      <td>3<\/td>\n",
       "      <td>0<\/td>\n",
       "    <\/tr>\n",
       "    <tr>\n",
       "      <th>3<\/th>\n",
       "      <td>769911858<\/td>\n",
       "      <td>40<\/td>\n",
       "      <td>4<\/td>\n",
       "      <td>34<\/td>\n",
       "      <td>3<\/td>\n",
       "      <td>4<\/td>\n",
       "      <td>1<\/td>\n",
       "      <td>3313.0<\/td>\n",
       "      <td>2517<\/td>\n",
       "      <td>796.0<\/td>\n",
       "      <td>...<\/td>\n",
       "      <td>2.333<\/td>\n",
       "      <td>0.760<\/td>\n",
       "      <td>0.000134<\/td>\n",
       "      <td>0.99987<\/td>\n",
       "      <td>1<\/td>\n",
       "      <td>0<\/td>\n",
       "      <td>3<\/td>\n",
       "      <td>3<\/td>\n",
       "      <td>4<\/td>\n",
       "      <td>0<\/td>\n",
       "    <\/tr>\n",
       "    <tr>\n",
       "      <th>4<\/th>\n",
       "      <td>709106358<\/td>\n",
       "      <td>40<\/td>\n",
       "      <td>3<\/td>\n",
       "      <td>21<\/td>\n",
       "      <td>5<\/td>\n",
       "      <td>1<\/td>\n",
       "      <td>0<\/td>\n",
       "      <td>4716.0<\/td>\n",
       "      <td>0<\/td>\n",
       "      <td>4716.0<\/td>\n",
       "      <td>...<\/td>\n",
       "      <td>2.500<\/td>\n",
       "      <td>0.000<\/td>\n",
       "      <td>0.000022<\/td>\n",
       "      <td>0.99998<\/td>\n",
       "      <td>1<\/td>\n",
       "      <td>1<\/td>\n",
       "      <td>5<\/td>\n",
       "      <td>1<\/td>\n",
       "      <td>2<\/td>\n",
       "      <td>0<\/td>\n",
       "    <\/tr>\n",
       "  <\/tbody>\n",
       "<\/table>\n",
       "<p>5 rows × 23 columns<\/p>\n",
       "<\/div>"
      ]
     },
     "metadata":{
      
     },
     "output_type":"display_data"
    }
   ],
   "metadata":{
    "datalore":{
     "type":"CODE",
     "hide_input_from_viewers":false,
     "hide_output_from_viewers":false
    }
   }
  },
  {
   "cell_type":"code",
   "source":[
    "columns = ['Months_on_book', 'Months_Inactive_12_mon', 'Credit_Limit', 'Total_Revolving_Bal']\n",
    "data_new=data.drop(columns, inplace=True, axis=1) "
   ],
   "execution_count":18,
   "outputs":[
    
   ],
   "metadata":{
    "datalore":{
     "type":"CODE",
     "hide_input_from_viewers":false,
     "hide_output_from_viewers":false
    }
   }
  },
  {
   "cell_type":"code",
   "source":[
    "columns = [ 'Avg_Open_To_Buy','Total_Amt_Chng_Q4_Q1', 'Total_Trans_Amt','Total_Trans_Ct', 'Total_Ct_Chng_Q4_Q1', 'Avg_Utilization_Ratio', 'Naive_Bayes_Classifier_Attrition_Flag_Card_Category_Contacts_Count_12_mon_Dependent_count_Education_Level_Months_Inactive_12_mon_1', 'Naive_Bayes_Classifier_Attrition_Flag_Card_Category_Contacts_Count_12_mon_Dependent_count_Education_Level_Months_Inactive_12_mon_2']\n",
    "data_new=data.drop(columns, inplace=True, axis=1) "
   ],
   "execution_count":19,
   "outputs":[
    
   ],
   "metadata":{
    "datalore":{
     "type":"CODE",
     "hide_input_from_viewers":false,
     "hide_output_from_viewers":false
    }
   }
  },
  {
   "cell_type":"code",
   "source":[
    "data.head(10)\n",
    "#'Avg_Open_To_Buy','Total_Amt_Chng_Q4_Q1', 'Total_Trans_Amt','Total_Trans_Ct', 'Total_Ct_Chng_Q4_Q1', 'Avg_Utilization_Ratio', 'Naive_Bayes_Classifier_Attrition_Flag_Card_Category_Contacts_Count_12_mon_Dependent_count_Education_Level_Months_Inactive_12_mon_1', 'Naive_Bayes_Classifier_Attrition_Flag_Card_Category_Contacts_Count_12_mon_Dependent_count_Education_Level_Months_Inactive_12_mon_2'"
   ],
   "execution_count":20,
   "outputs":[
    {
     "data":{
      "text\/html":[
       "<div>\n",
       "<style scoped>\n",
       "    .dataframe tbody tr th:only-of-type {\n",
       "        vertical-align: middle;\n",
       "    }\n",
       "\n",
       "    .dataframe tbody tr th {\n",
       "        vertical-align: top;\n",
       "    }\n",
       "\n",
       "    .dataframe thead th {\n",
       "        text-align: right;\n",
       "    }\n",
       "<\/style>\n",
       "<table border=\"1\" class=\"dataframe\">\n",
       "  <thead>\n",
       "    <tr style=\"text-align: right;\">\n",
       "      <th><\/th>\n",
       "      <th>CLIENTNUM<\/th>\n",
       "      <th>Customer_Age<\/th>\n",
       "      <th>Dependent_count<\/th>\n",
       "      <th>Total_Relationship_Count<\/th>\n",
       "      <th>Contacts_Count_12_mon<\/th>\n",
       "      <th>Attrition_Flag_new<\/th>\n",
       "      <th>Gender_new<\/th>\n",
       "      <th>Education_Level_new<\/th>\n",
       "      <th>Marital_Status_new<\/th>\n",
       "      <th>Income_Category_new<\/th>\n",
       "      <th>Card_Category_new<\/th>\n",
       "    <\/tr>\n",
       "  <\/thead>\n",
       "  <tbody>\n",
       "    <tr>\n",
       "      <th>0<\/th>\n",
       "      <td>768805383<\/td>\n",
       "      <td>45<\/td>\n",
       "      <td>3<\/td>\n",
       "      <td>5<\/td>\n",
       "      <td>3<\/td>\n",
       "      <td>1<\/td>\n",
       "      <td>1<\/td>\n",
       "      <td>3<\/td>\n",
       "      <td>1<\/td>\n",
       "      <td>2<\/td>\n",
       "      <td>0<\/td>\n",
       "    <\/tr>\n",
       "    <tr>\n",
       "      <th>1<\/th>\n",
       "      <td>818770008<\/td>\n",
       "      <td>49<\/td>\n",
       "      <td>5<\/td>\n",
       "      <td>6<\/td>\n",
       "      <td>2<\/td>\n",
       "      <td>1<\/td>\n",
       "      <td>0<\/td>\n",
       "      <td>2<\/td>\n",
       "      <td>2<\/td>\n",
       "      <td>4<\/td>\n",
       "      <td>0<\/td>\n",
       "    <\/tr>\n",
       "    <tr>\n",
       "      <th>2<\/th>\n",
       "      <td>713982108<\/td>\n",
       "      <td>51<\/td>\n",
       "      <td>3<\/td>\n",
       "      <td>4<\/td>\n",
       "      <td>0<\/td>\n",
       "      <td>1<\/td>\n",
       "      <td>1<\/td>\n",
       "      <td>2<\/td>\n",
       "      <td>1<\/td>\n",
       "      <td>3<\/td>\n",
       "      <td>0<\/td>\n",
       "    <\/tr>\n",
       "    <tr>\n",
       "      <th>3<\/th>\n",
       "      <td>769911858<\/td>\n",
       "      <td>40<\/td>\n",
       "      <td>4<\/td>\n",
       "      <td>3<\/td>\n",
       "      <td>1<\/td>\n",
       "      <td>1<\/td>\n",
       "      <td>0<\/td>\n",
       "      <td>3<\/td>\n",
       "      <td>3<\/td>\n",
       "      <td>4<\/td>\n",
       "      <td>0<\/td>\n",
       "    <\/tr>\n",
       "    <tr>\n",
       "      <th>4<\/th>\n",
       "      <td>709106358<\/td>\n",
       "      <td>40<\/td>\n",
       "      <td>3<\/td>\n",
       "      <td>5<\/td>\n",
       "      <td>0<\/td>\n",
       "      <td>1<\/td>\n",
       "      <td>1<\/td>\n",
       "      <td>5<\/td>\n",
       "      <td>1<\/td>\n",
       "      <td>2<\/td>\n",
       "      <td>0<\/td>\n",
       "    <\/tr>\n",
       "    <tr>\n",
       "      <th>5<\/th>\n",
       "      <td>713061558<\/td>\n",
       "      <td>44<\/td>\n",
       "      <td>2<\/td>\n",
       "      <td>3<\/td>\n",
       "      <td>2<\/td>\n",
       "      <td>1<\/td>\n",
       "      <td>1<\/td>\n",
       "      <td>2<\/td>\n",
       "      <td>1<\/td>\n",
       "      <td>1<\/td>\n",
       "      <td>0<\/td>\n",
       "    <\/tr>\n",
       "    <tr>\n",
       "      <th>6<\/th>\n",
       "      <td>810347208<\/td>\n",
       "      <td>51<\/td>\n",
       "      <td>4<\/td>\n",
       "      <td>6<\/td>\n",
       "      <td>3<\/td>\n",
       "      <td>1<\/td>\n",
       "      <td>1<\/td>\n",
       "      <td>6<\/td>\n",
       "      <td>1<\/td>\n",
       "      <td>0<\/td>\n",
       "      <td>1<\/td>\n",
       "    <\/tr>\n",
       "    <tr>\n",
       "      <th>7<\/th>\n",
       "      <td>818906208<\/td>\n",
       "      <td>32<\/td>\n",
       "      <td>0<\/td>\n",
       "      <td>2<\/td>\n",
       "      <td>2<\/td>\n",
       "      <td>1<\/td>\n",
       "      <td>1<\/td>\n",
       "      <td>3<\/td>\n",
       "      <td>3<\/td>\n",
       "      <td>2<\/td>\n",
       "      <td>3<\/td>\n",
       "    <\/tr>\n",
       "    <tr>\n",
       "      <th>8<\/th>\n",
       "      <td>710930508<\/td>\n",
       "      <td>37<\/td>\n",
       "      <td>3<\/td>\n",
       "      <td>5<\/td>\n",
       "      <td>0<\/td>\n",
       "      <td>1<\/td>\n",
       "      <td>1<\/td>\n",
       "      <td>5<\/td>\n",
       "      <td>2<\/td>\n",
       "      <td>2<\/td>\n",
       "      <td>0<\/td>\n",
       "    <\/tr>\n",
       "    <tr>\n",
       "      <th>9<\/th>\n",
       "      <td>719661558<\/td>\n",
       "      <td>48<\/td>\n",
       "      <td>2<\/td>\n",
       "      <td>6<\/td>\n",
       "      <td>3<\/td>\n",
       "      <td>1<\/td>\n",
       "      <td>1<\/td>\n",
       "      <td>2<\/td>\n",
       "      <td>2<\/td>\n",
       "      <td>3<\/td>\n",
       "      <td>0<\/td>\n",
       "    <\/tr>\n",
       "  <\/tbody>\n",
       "<\/table>\n",
       "<\/div>"
      ]
     },
     "metadata":{
      
     },
     "output_type":"display_data"
    }
   ],
   "metadata":{
    "datalore":{
     "type":"CODE",
     "hide_input_from_viewers":false,
     "hide_output_from_viewers":false
    }
   }
  },
  {
   "cell_type":"code",
   "source":[
    "columns = ['Dependent_count', 'Total_Relationship_Count', 'Contacts_Count_12_mon']\n",
    "data_new=data.drop(columns, inplace=True, axis=1) "
   ],
   "execution_count":21,
   "outputs":[
    
   ],
   "metadata":{
    "datalore":{
     "type":"CODE",
     "hide_input_from_viewers":false,
     "hide_output_from_viewers":false
    }
   }
  },
  {
   "cell_type":"code",
   "source":[
    "data_new = data\n",
    "X=data_new\n",
    "y=data_new['Gender_new'] "
   ],
   "execution_count":22,
   "outputs":[
    
   ],
   "metadata":{
    "datalore":{
     "type":"CODE",
     "hide_input_from_viewers":false,
     "hide_output_from_viewers":false
    }
   }
  },
  {
   "cell_type":"code",
   "source":[
    "data_new_X_train, data_new_X_test, data_new_y_train, data_new_y_test = train_test_split(X,y, test_size=0.15, random_state=1)"
   ],
   "execution_count":23,
   "outputs":[
    
   ],
   "metadata":{
    "datalore":{
     "type":"CODE",
     "hide_input_from_viewers":false,
     "hide_output_from_viewers":false
    }
   }
  },
  {
   "cell_type":"code",
   "source":[
    "# Размер обучающей выборки\n",
    "data_new_X_train.shape, data_new_y_train.shape"
   ],
   "execution_count":24,
   "outputs":[
    {
     "data":{
      "text\/plain":[
       "((8607, 8), (8607,))"
      ]
     },
     "metadata":{
      
     },
     "output_type":"display_data"
    }
   ],
   "metadata":{
    "datalore":{
     "type":"CODE",
     "hide_input_from_viewers":false,
     "hide_output_from_viewers":false
    }
   }
  },
  {
   "cell_type":"code",
   "source":[
    "# Размер тестовой выборки\n",
    "data_new_X_test.shape, data_new_y_test.shape"
   ],
   "execution_count":25,
   "outputs":[
    {
     "data":{
      "text\/plain":[
       "((1520, 8), (1520,))"
      ]
     },
     "metadata":{
      
     },
     "output_type":"display_data"
    }
   ],
   "metadata":{
    "datalore":{
     "type":"CODE",
     "hide_input_from_viewers":false,
     "hide_output_from_viewers":false
    }
   }
  },
  {
   "cell_type":"code",
   "source":[
    "data_new_y_test.head()"
   ],
   "execution_count":26,
   "outputs":[
    {
     "data":{
      "text\/html":[
       
      ]
     },
     "metadata":{
      
     },
     "output_type":"display_data"
    }
   ],
   "metadata":{
    "datalore":{
     "type":"CODE",
     "hide_input_from_viewers":false,
     "hide_output_from_viewers":false
    }
   }
  },
  {
   "cell_type":"code",
   "source":[
    "from enum import Enum\n",
    "class PredictionType(Enum):\n",
    "    CLASSIFICATION = 1\n",
    "    REGRESSION = 2"
   ],
   "execution_count":27,
   "outputs":[
    
   ],
   "metadata":{
    "datalore":{
     "type":"CODE",
     "hide_input_from_viewers":false,
     "hide_output_from_viewers":false
    }
   }
  },
  {
   "cell_type":"code",
   "source":[
    "class SimpleKNN:\n",
    "    \n",
    "    def fit(self, X_train: np.matrix, y_train: np.ndarray):\n",
    "        \"\"\"\n",
    "        Метод обучения, который фактически не учится, \n",
    "        а только запоминает обучающую выборку.\n",
    "        Входные параметры:\n",
    "        X_train - обучающая выборка (матрица объект-признак)\n",
    "        y_train - обучающая выборка (вектор целевого признака)\n",
    "        Возвращаемое значение: нет\n",
    "        \"\"\"\n",
    "        #Сохраняем параметры в переменных класса\n",
    "        self._X_train = X_train\n",
    "        self._y_train = y_train\n",
    "          \n",
    "    def eucl_dist(self, p: np.ndarray, q: np.ndarray) -> float:\n",
    "        \"\"\"\n",
    "        Вычисление Евклидова расстояния - https:\/\/en.wikipedia.org\/wiki\/Euclidean_distance \n",
    "        Входные параметры:\n",
    "        p, q - вектора в n-мерном пространстве признаков\n",
    "        \"\"\"\n",
    "        return math.sqrt(sum([(pi - qi) ** 2 for pi, qi in zip (p, q)]))\n",
    "            \n",
    "            \n",
    "    def predict_for_single_object(self, K: int, \\\n",
    "                prediction_type: PredictionType, \\\n",
    "                X_o: np.ndarray, \\\n",
    "                verbose = True) -> np.ndarray:\n",
    "        \"\"\"\n",
    "        Метод предсказания для одного объекта.\n",
    "        Входные параметры:\n",
    "        K - гиперпараметр, количество соседей \n",
    "        prediction_type - классификация или регрессия \n",
    "        X_o - строка матрицы объект-признак, соответствующая объекту\n",
    "        verbose - флаг детального вывода\n",
    "        Возвращаемое значение: предсказанное значение целевого признака\n",
    "        \"\"\"\n",
    "        # список соседей\n",
    "        neighbors_list = []\n",
    "        # *** Находим ближайшие точки ***\n",
    "        # Перебираем все точки обучающей выборки\n",
    "        for i in range(self._X_train.shape[0]):\n",
    "            # получаем текущую точку\n",
    "            data_train_current_x = [x for x in self._X_train[['Customer_Age','Card_Category_new', 'Education_Level_new', 'Income_Category_new']].iloc[i]]\n",
    "            # и значение ее y\n",
    "            data_train_current_y = self._y_train.values[i]\n",
    "            # вычисляем расстояние\n",
    "            dist = self.eucl_dist(X_o, data_train_current_x)\n",
    "            # сохраняем в список соседей\n",
    "            temp_res = (data_train_current_y, dist, data_train_current_x)\n",
    "            neighbors_list.append(temp_res)\n",
    "        # *** сортируем список соседей по возрастанию расстояния *** \n",
    "        # в кортеже элементы следуют в порядке (0,1,2), сортируем по первому элементу \n",
    "        neighbors_list_sorted = sorted(neighbors_list, key=itemgetter(1))\n",
    "        if verbose:\n",
    "            print()\n",
    "            print('**************************************')\n",
    "            print('Проверяемая точка: ', X_o)\n",
    "            print('**************************************')\n",
    "            print('Вывод отсортированного списка соседей:')    \n",
    "            dist_list = []\n",
    "            for cur_y, cur_dist, temp_x_1_2 in neighbors_list_sorted:\n",
    "                temp_x1, temp_x2 = temp_x_1_2\n",
    "                print('X1={0}, X2={1}, y={2}, расстояние={3:.2f}'.format(temp_x1, temp_x2, cur_y, cur_dist))\n",
    "                dist_list.append(cur_dist)\n",
    "            print()\n",
    "            print('Вывод расстояния для отсортированного списка соседей:')    \n",
    "            plt.plot(dist_list)\n",
    "            plt.show()\n",
    "        # Оставим только K ближайших соседей\n",
    "        K_neighbors_list_sorted = neighbors_list_sorted[:K]\n",
    "        if verbose:\n",
    "            print('Вывод К ближайших соседей:')\n",
    "            x1_list = []\n",
    "            x2_list = []\n",
    "            for cur_y, cur_dist, temp_x_1_2 in K_neighbors_list_sorted:\n",
    "                temp_x1, temp_x2 = temp_x_1_2\n",
    "                x1_list.append(temp_x1)\n",
    "                x2_list.append(temp_x2)\n",
    "                print('X1={0}, X2={1}, y={2}, расстояние={3:.2f}'.format(temp_x1, temp_x2, cur_y, cur_dist))\n",
    "            print()\n",
    "            print('Визуализация К ближайших соседей:')\n",
    "            plt.plot(self._X_train['x1'], self._X_train['x2'], 'b.', \\\n",
    "                     x1_list, x2_list,  'g*', \\\n",
    "                    [X_o[0]], [X_o[1]], 'ro')\n",
    "            plt.show()   \n",
    "        # Результат - классификация или регрессия\n",
    "        if prediction_type == PredictionType.REGRESSION:\n",
    "            # используем numpy для вычисления среднего значения\n",
    "            arr = np.array([x for x,_,_ in K_neighbors_list_sorted])\n",
    "            # возвращаем среднее значение\n",
    "            return np.mean(arr)          \n",
    "        elif prediction_type == PredictionType.CLASSIFICATION:\n",
    "            k_y_list = [y for y,_,_ in K_neighbors_list_sorted]\n",
    "            # группируем с количеством метки классов,\n",
    "            # соответствующие K ближайшим соседям\n",
    "            k_y_list_grouped_temp = np.unique(k_y_list, return_counts=True)\n",
    "            k_y_list_grouped = [[key, cnt] for key, cnt in zip(k_y_list_grouped_temp[0], k_y_list_grouped_temp[1])]\n",
    "            # сортируем по количеству по убыванию\n",
    "            k_y_list_grouped_sorted = sorted(k_y_list_grouped, key=itemgetter(1), reverse=True)\n",
    "            if verbose:\n",
    "                print('Классы, соответствующие К ближайшим соседям:')\n",
    "                for i in k_y_list_grouped_sorted:\n",
    "                    print('класс={0}, количество элементов={1}'.format(i[0], i[1]))\n",
    "            # возвращаеv метку класса из первой строки отсортированного массива\n",
    "            # то есть того класса, к которому принадлежит наибольшее количество соседей\n",
    "            return k_y_list_grouped_sorted[0][0]\n",
    "        else:\n",
    "            raise Exception('Неизвестный тип предсказания')\n",
    "                   \n",
    "    \n",
    "    def predict(self, K: int, \\\n",
    "                prediction_type: PredictionType, \\\n",
    "                X_test: np.matrix, \n",
    "                verbose = True) -> np.ndarray:\n",
    "        \"\"\"\n",
    "        Метод предсказания.\n",
    "        Входные параметры:\n",
    "        K - гиперпараметр, количество соседей \n",
    "        prediction_type - классификация или регрессия \n",
    "        X_test - тестовая выборка (матрица объект-признак)\n",
    "        Возвращаемое значение: предсказанный вектор целевого признака\n",
    "        \"\"\"\n",
    "        # Перебираем все точки тестовой выборки\n",
    "        test_data_temp = []\n",
    "        for i in range(X_test.shape[0]):\n",
    "            # получаем текущую точку\n",
    "            data_test_current_x = [x for x in X_test.iloc[i]]\n",
    "            test_data_temp.append(data_test_current_x)       \n",
    "        return [self.predict_for_single_object(K=K, \\\n",
    "                prediction_type=prediction_type, \\\n",
    "                X_o=i, verbose=verbose) for i in test_data_temp]\n",
    "    "
   ],
   "execution_count":28,
   "outputs":[
    
   ],
   "metadata":{
    "datalore":{
     "type":"CODE",
     "hide_input_from_viewers":false,
     "hide_output_from_viewers":false
    }
   }
  },
  {
   "cell_type":"code",
   "source":[
    "# создаем объект класса\n",
    "simple_knn_clas = SimpleKNN()\n",
    "# вызываем метод обучения\n",
    "#simple_knn_clas.fit(data_train[['x1','x2']], data_train['y_clas'])"
   ],
   "execution_count":29,
   "outputs":[
    
   ],
   "metadata":{
    "datalore":{
     "type":"CODE",
     "hide_input_from_viewers":false,
     "hide_output_from_viewers":false
    }
   }
  },
  {
   "cell_type":"code",
   "source":[
    "# вызываем метод обучения\n",
    "simple_knn_clas.fit(data_new_X_train[['Customer_Age','Card_Category_new', 'Education_Level_new', 'Income_Category_new']], data_new_y_train)\n",
    "#simple_knn_regr.fit(data_new_X_train[['Customer_Age','Gender_new', 'Education_Level_new', 'Income_Category_new']], \n",
    "                    #data_new_y_train['Card_Category_new'])"
   ],
   "execution_count":30,
   "outputs":[
    
   ],
   "metadata":{
    "datalore":{
     "type":"CODE",
     "hide_input_from_viewers":false,
     "hide_output_from_viewers":false
    }
   }
  },
  {
   "cell_type":"code",
   "source":[
    "simple_knn_clas._X_train"
   ],
   "execution_count":31,
   "outputs":[
    {
     "data":{
      "text\/html":[
       "<div>\n",
       "<style scoped>\n",
       "    .dataframe tbody tr th:only-of-type {\n",
       "        vertical-align: middle;\n",
       "    }\n",
       "\n",
       "    .dataframe tbody tr th {\n",
       "        vertical-align: top;\n",
       "    }\n",
       "\n",
       "    .dataframe thead th {\n",
       "        text-align: right;\n",
       "    }\n",
       "<\/style>\n",
       "<table border=\"1\" class=\"dataframe\">\n",
       "  <thead>\n",
       "    <tr style=\"text-align: right;\">\n",
       "      <th><\/th>\n",
       "      <th>Customer_Age<\/th>\n",
       "      <th>Card_Category_new<\/th>\n",
       "      <th>Education_Level_new<\/th>\n",
       "      <th>Income_Category_new<\/th>\n",
       "    <\/tr>\n",
       "  <\/thead>\n",
       "  <tbody>\n",
       "    <tr>\n",
       "      <th>9119<\/th>\n",
       "      <td>47<\/td>\n",
       "      <td>0<\/td>\n",
       "      <td>6<\/td>\n",
       "      <td>4<\/td>\n",
       "    <\/tr>\n",
       "    <tr>\n",
       "      <th>7023<\/th>\n",
       "      <td>43<\/td>\n",
       "      <td>0<\/td>\n",
       "      <td>0<\/td>\n",
       "      <td>3<\/td>\n",
       "    <\/tr>\n",
       "    <tr>\n",
       "      <th>4836<\/th>\n",
       "      <td>36<\/td>\n",
       "      <td>0<\/td>\n",
       "      <td>2<\/td>\n",
       "      <td>1<\/td>\n",
       "    <\/tr>\n",
       "    <tr>\n",
       "      <th>6359<\/th>\n",
       "      <td>44<\/td>\n",
       "      <td>0<\/td>\n",
       "      <td>4<\/td>\n",
       "      <td>4<\/td>\n",
       "    <\/tr>\n",
       "    <tr>\n",
       "      <th>4894<\/th>\n",
       "      <td>44<\/td>\n",
       "      <td>3<\/td>\n",
       "      <td>6<\/td>\n",
       "      <td>2<\/td>\n",
       "    <\/tr>\n",
       "    <tr>\n",
       "      <th>...<\/th>\n",
       "      <td>...<\/td>\n",
       "      <td>...<\/td>\n",
       "      <td>...<\/td>\n",
       "      <td>...<\/td>\n",
       "    <\/tr>\n",
       "    <tr>\n",
       "      <th>2895<\/th>\n",
       "      <td>51<\/td>\n",
       "      <td>0<\/td>\n",
       "      <td>6<\/td>\n",
       "      <td>3<\/td>\n",
       "    <\/tr>\n",
       "    <tr>\n",
       "      <th>7813<\/th>\n",
       "      <td>38<\/td>\n",
       "      <td>0<\/td>\n",
       "      <td>2<\/td>\n",
       "      <td>4<\/td>\n",
       "    <\/tr>\n",
       "    <tr>\n",
       "      <th>905<\/th>\n",
       "      <td>51<\/td>\n",
       "      <td>0<\/td>\n",
       "      <td>5<\/td>\n",
       "      <td>0<\/td>\n",
       "    <\/tr>\n",
       "    <tr>\n",
       "      <th>5192<\/th>\n",
       "      <td>42<\/td>\n",
       "      <td>0<\/td>\n",
       "      <td>2<\/td>\n",
       "      <td>4<\/td>\n",
       "    <\/tr>\n",
       "    <tr>\n",
       "      <th>235<\/th>\n",
       "      <td>55<\/td>\n",
       "      <td>0<\/td>\n",
       "      <td>0<\/td>\n",
       "      <td>2<\/td>\n",
       "    <\/tr>\n",
       "  <\/tbody>\n",
       "<\/table>\n",
       "<p>8607 rows × 4 columns<\/p>\n",
       "<\/div>"
      ]
     },
     "metadata":{
      
     },
     "output_type":"display_data"
    }
   ],
   "metadata":{
    "datalore":{
     "type":"CODE",
     "hide_input_from_viewers":false,
     "hide_output_from_viewers":false
    }
   }
  },
  {
   "cell_type":"code",
   "source":[
    "simple_knn_clas._y_train"
   ],
   "execution_count":32,
   "outputs":[
    {
     "data":{
      "text\/html":[
       
      ]
     },
     "metadata":{
      
     },
     "output_type":"display_data"
    }
   ],
   "metadata":{
    "datalore":{
     "type":"CODE",
     "hide_input_from_viewers":false,
     "hide_output_from_viewers":false
    }
   }
  },
  {
   "cell_type":"code",
   "source":[
    "# первая строка тестовой выборки\n",
    "data_test_0 = [x for x in data_new_X_test[['Customer_Age','Card_Category_new', 'Education_Level_new', 'Income_Category_new']].iloc[0]]\n",
    "data_test_0"
   ],
   "execution_count":33,
   "outputs":[
    {
     "data":{
      "text\/plain":[
       "[43, 0, 2, 4]"
      ]
     },
     "metadata":{
      
     },
     "output_type":"display_data"
    }
   ],
   "metadata":{
    "datalore":{
     "type":"CODE",
     "hide_input_from_viewers":false,
     "hide_output_from_viewers":false
    }
   }
  },
  {
   "cell_type":"code",
   "source":[
    "# построим предсказание для одного объекта (классификация)\n",
    "simple_knn_clas_0 = simple_knn_clas.predict_for_single_object(K=5, \\\n",
    "                          prediction_type=PredictionType.CLASSIFICATION, \\\n",
    "                          X_o=data_test_0, verbose=False)\n",
    "simple_knn_clas_0"
   ],
   "execution_count":34,
   "outputs":[
    {
     "data":{
      "text\/plain":[
       "0"
      ]
     },
     "metadata":{
      
     },
     "output_type":"display_data"
    }
   ],
   "metadata":{
    "datalore":{
     "type":"CODE",
     "hide_input_from_viewers":false,
     "hide_output_from_viewers":false
    }
   }
  },
  {
   "cell_type":"code",
   "source":[
    "KNeighborsClassifierObj = KNeighborsClassifier(n_neighbors=2)\n",
    "KNeighborsClassifierObj"
   ],
   "execution_count":35,
   "outputs":[
    {
     "data":{
      "text\/plain":[
       "KNeighborsClassifier(n_neighbors=2)"
      ]
     },
     "metadata":{
      
     },
     "output_type":"display_data"
    }
   ],
   "metadata":{
    "datalore":{
     "type":"CODE",
     "hide_input_from_viewers":false,
     "hide_output_from_viewers":false
    }
   }
  },
  {
   "cell_type":"code",
   "source":[
    "card1=KNeighborsClassifierObj.fit(data_new_X_train[['Customer_Age','Card_Category_new', 'Education_Level_new', 'Income_Category_new']], data_new_y_train)\n",
    "card1_1=KNeighborsClassifierObj.predict(data_new_X_test[['Customer_Age','Card_Category_new', 'Education_Level_new', 'Income_Category_new']])"
   ],
   "execution_count":36,
   "outputs":[
    
   ],
   "metadata":{
    "datalore":{
     "type":"CODE",
     "hide_input_from_viewers":false,
     "hide_output_from_viewers":false
    }
   }
  },
  {
   "cell_type":"code",
   "source":[
    "KNeighborsClassifierObj.predict(data_new_X_train[['Customer_Age','Card_Category_new', 'Education_Level_new', 'Income_Category_new']])"
   ],
   "execution_count":37,
   "outputs":[
    {
     "data":{
      "text\/html":[
       
      ]
     },
     "metadata":{
      
     },
     "output_type":"display_data"
    }
   ],
   "metadata":{
    "datalore":{
     "type":"CODE",
     "hide_input_from_viewers":false,
     "hide_output_from_viewers":false
    }
   }
  },
  {
   "cell_type":"code",
   "source":[
    "KNeighborsClassifierObj1 = KNeighborsClassifier(n_neighbors=4)\n",
    "KNeighborsClassifierObj1"
   ],
   "execution_count":38,
   "outputs":[
    {
     "data":{
      "text\/plain":[
       "KNeighborsClassifier(n_neighbors=4)"
      ]
     },
     "metadata":{
      
     },
     "output_type":"display_data"
    }
   ],
   "metadata":{
    "datalore":{
     "type":"CODE",
     "hide_input_from_viewers":false,
     "hide_output_from_viewers":false
    }
   }
  },
  {
   "cell_type":"code",
   "source":[
    "card2=KNeighborsClassifierObj1.fit(data_new_X_train[['Customer_Age','Card_Category_new', 'Education_Level_new', 'Income_Category_new']], data_new_y_train)\n",
    "card2_1=KNeighborsClassifierObj1.predict(data_new_X_test[['Customer_Age','Card_Category_new', 'Education_Level_new', 'Income_Category_new']])"
   ],
   "execution_count":39,
   "outputs":[
    
   ],
   "metadata":{
    "datalore":{
     "type":"CODE",
     "hide_input_from_viewers":false,
     "hide_output_from_viewers":false
    }
   }
  },
  {
   "cell_type":"code",
   "source":[
    "KNeighborsClassifierObj1.predict(data_new_X_train[['Customer_Age','Card_Category_new', 'Education_Level_new', 'Income_Category_new']])"
   ],
   "execution_count":40,
   "outputs":[
    {
     "data":{
      "text\/html":[
       
      ]
     },
     "metadata":{
      
     },
     "output_type":"display_data"
    }
   ],
   "metadata":{
    "datalore":{
     "type":"CODE",
     "hide_input_from_viewers":false,
     "hide_output_from_viewers":false
    }
   }
  },
  {
   "cell_type":"code",
   "source":[
    "# data_new_y_test - эталонное значение классов из исходной (тестовой) выборки\n",
    "# card - предсказанное значение классов\n",
    "\n",
    "# 2 ближайших соседа\n",
    "accuracy_score(data_new_y_test, card1_1)"
   ],
   "execution_count":41,
   "outputs":[
    {
     "data":{
      "text\/plain":[
       "0.881578947368421"
      ]
     },
     "metadata":{
      
     },
     "output_type":"display_data"
    }
   ],
   "metadata":{
    "datalore":{
     "type":"CODE",
     "hide_input_from_viewers":false,
     "hide_output_from_viewers":false
    }
   }
  },
  {
   "cell_type":"code",
   "source":[
    "# 4 ближайших соседей\n",
    "accuracy_score(data_new_y_test, card2_1)"
   ],
   "execution_count":42,
   "outputs":[
    {
     "data":{
      "text\/plain":[
       "0.8868421052631579"
      ]
     },
     "metadata":{
      
     },
     "output_type":"display_data"
    }
   ],
   "metadata":{
    "datalore":{
     "type":"CODE",
     "hide_input_from_viewers":false,
     "hide_output_from_viewers":false
    }
   }
  },
  {
   "cell_type":"code",
   "source":[
    "# Пример для небинарной классификации\n",
    "confusion_matrix(data_new_y_test, card1_1, labels=[0, 1])"
   ],
   "execution_count":43,
   "outputs":[
    {
     "data":{
      "text\/html":[
       
      ]
     },
     "metadata":{
      
     },
     "output_type":"display_data"
    }
   ],
   "metadata":{
    "datalore":{
     "type":"CODE",
     "hide_input_from_viewers":false,
     "hide_output_from_viewers":false
    }
   }
  },
  {
   "cell_type":"code",
   "source":[
    "fig, ax = plt.subplots(1, 2, sharex='col', sharey='row', figsize=(15,5))\n",
    "labels = ['Female', 'Male']\n",
    "\n",
    "plot_confusion_matrix(KNeighborsClassifierObj, data_new_X_test[['Customer_Age','Card_Category_new', 'Education_Level_new', 'Income_Category_new']], data_new_y_test, \n",
    "                      display_labels=labels, \n",
    "                      cmap=plt.cm.Blues, normalize='true', ax=ax[0])\n",
    "\n",
    "plot_confusion_matrix(KNeighborsClassifierObj1, data_new_X_test[['Customer_Age','Card_Category_new', 'Education_Level_new', 'Income_Category_new']], data_new_y_test, \n",
    "                      display_labels=labels, \n",
    "                      cmap=plt.cm.Blues, normalize='true', ax=ax[1])\n",
    "\n",
    "fig.suptitle('Матрицы ошибок')\n",
    "ax[0].title.set_text('K=2')\n",
    "ax[1].title.set_text('K=4')"
   ],
   "execution_count":44,
   "outputs":[
    {
     "name":"stderr",
     "text":[
      "\/opt\/python\/envs\/default\/lib\/python3.8\/site-packages\/sklearn\/utils\/deprecation.py:87: FutureWarning: Function plot_confusion_matrix is deprecated; Function `plot_confusion_matrix` is deprecated in 1.0 and will be removed in 1.2. Use one of the class methods: ConfusionMatrixDisplay.from_predictions or ConfusionMatrixDisplay.from_estimator.\n",
      "  warnings.warn(msg, category=FutureWarning)\n",
      "\/opt\/python\/envs\/default\/lib\/python3.8\/site-packages\/sklearn\/utils\/deprecation.py:87: FutureWarning: Function plot_confusion_matrix is deprecated; Function `plot_confusion_matrix` is deprecated in 1.0 and will be removed in 1.2. Use one of the class methods: ConfusionMatrixDisplay.from_predictions or ConfusionMatrixDisplay.from_estimator.\n",
      "  warnings.warn(msg, category=FutureWarning)\n"
     ],
     "output_type":"stream"
    },
    {
     "data":{
      "image\/png":"[encoded data removed]"
     },
     "metadata":{
      "image\/png":{
       
      }
     },
     "output_type":"display_data"
    }
   ],
   "metadata":{
    "datalore":{
     "type":"CODE",
     "hide_input_from_viewers":false,
     "hide_output_from_viewers":false
    }
   }
  },
  {
   "cell_type":"code",
   "source":[
    "# Параметры TP, TN, FP, FN считаются как сумма по всем классам (2 и 7 ближайших соседей соответственно)\n",
    "precision_score(data_new_y_test, card1_1, average='micro'), precision_score(data_new_y_test, card2_1, average='micro')"
   ],
   "execution_count":45,
   "outputs":[
    {
     "data":{
      "text\/plain":[
       "(0.881578947368421, 0.8868421052631579)"
      ]
     },
     "metadata":{
      
     },
     "output_type":"display_data"
    }
   ],
   "metadata":{
    "datalore":{
     "type":"CODE",
     "hide_input_from_viewers":false,
     "hide_output_from_viewers":false
    }
   }
  },
  {
   "cell_type":"code",
   "source":[
    "# Для 2 ближайших соседей\n",
    "precision_score(data_new_y_test, card1_1), recall_score(data_new_y_test, card1_1)"
   ],
   "execution_count":46,
   "outputs":[
    {
     "data":{
      "text\/plain":[
       "(0.9506578947368421, 0.7939560439560439)"
      ]
     },
     "metadata":{
      
     },
     "output_type":"display_data"
    }
   ],
   "metadata":{
    "datalore":{
     "type":"CODE",
     "hide_input_from_viewers":false,
     "hide_output_from_viewers":false
    }
   }
  },
  {
   "cell_type":"code",
   "source":[
    "# Для 4 ближайших соседей\n",
    "precision_score(data_new_y_test, card2_1), recall_score(data_new_y_test, card2_1)"
   ],
   "execution_count":47,
   "outputs":[
    {
     "data":{
      "text\/plain":[
       "(0.9371069182389937, 0.8186813186813187)"
      ]
     },
     "metadata":{
      
     },
     "output_type":"display_data"
    }
   ],
   "metadata":{
    "datalore":{
     "type":"CODE",
     "hide_input_from_viewers":false,
     "hide_output_from_viewers":false
    }
   }
  },
  {
   "cell_type":"code",
   "source":[
    "# Отрисовка двух ROC-кривых\n",
    "def draw_roc_curve_2(y_true, y_score, pos_label, average):\n",
    "    fpr, tpr, thresholds = roc_curve(y_true, y_score, \n",
    "                                     pos_label=pos_label)\n",
    "    # стандартный метод из sklearn\n",
    "    roc_auc_value = roc_auc_score(y_true, y_score, average=average)\n",
    "    # собственная реализация\n",
    "    #fpr2, tpr2, thresholds2 = simple_roc_curve(y_true, y_score)\n",
    "    \n",
    "    plt.figure()\n",
    "    lw = 2\n",
    "    plt.plot(fpr, tpr, color='darkorange',\n",
    "             lw=lw, label='ROC curve (area = %0.2f)' % roc_auc_value)\n",
    "    plt.plot([0, 1], [0, 1], color='green', alpha=0.5)\n",
    "    plt.plot([0, 1], [0, 1], color='navy', lw=lw, linestyle='--')\n",
    "    plt.xlim([0.0, 1.0])\n",
    "    plt.ylim([0.0, 1.05])\n",
    "    plt.xlabel('False Positive Rate')\n",
    "    plt.ylabel('True Positive Rate')\n",
    "    plt.title('Receiver operating characteristic example')\n",
    "    plt.legend(loc=\"lower right\")\n",
    "    plt.show()"
   ],
   "execution_count":48,
   "outputs":[
    
   ],
   "metadata":{
    "datalore":{
     "type":"CODE",
     "hide_input_from_viewers":false,
     "hide_output_from_viewers":false
    }
   }
  },
  {
   "cell_type":"code",
   "source":[
    "proba_card1_1 = KNeighborsClassifierObj.predict_proba(data_new_X_test[['Customer_Age','Card_Category_new', 'Education_Level_new', 'Income_Category_new']])\n",
    "true_proba_card1_1 = proba_card1_1[:,1]\n",
    "draw_roc_curve_2(np.array(data_new_y_test), np.array(true_proba_card1_1), pos_label=1, average='micro')"
   ],
   "execution_count":49,
   "outputs":[
    {
     "data":{
      "image\/png":"[encoded data removed]"
     },
     "metadata":{
      "image\/png":{
       
      }
     },
     "output_type":"display_data"
    }
   ],
   "metadata":{
    "datalore":{
     "type":"CODE",
     "hide_input_from_viewers":false,
     "hide_output_from_viewers":false
    }
   }
  },
  {
   "cell_type":"code",
   "source":[
    "proba_card2_1 = KNeighborsClassifierObj1.predict_proba(data_new_X_test[['Customer_Age','Card_Category_new', 'Education_Level_new', 'Income_Category_new']])\n",
    "true_proba_card2_1 = proba_card2_1[:,1]\n",
    "draw_roc_curve_2(np.array(data_new_y_test), np.array(true_proba_card2_1), pos_label=1, average='micro')"
   ],
   "execution_count":50,
   "outputs":[
    {
     "data":{
      "image\/png":"[encoded data removed]"
     },
     "metadata":{
      "image\/png":{
       
      }
     },
     "output_type":"display_data"
    }
   ],
   "metadata":{
    "datalore":{
     "type":"CODE",
     "hide_input_from_viewers":false,
     "hide_output_from_viewers":false
    }
   }
  },
  {
   "cell_type":"code",
   "source":[
    "#осуществим кросс-валидацию K-fold (2 соседа)\n",
    "kf = KFold(n_splits=3)\n",
    "scores = cross_val_score(KNeighborsClassifier(n_neighbors=2), \n",
    "                         data_new_X_train[['Customer_Age','Card_Category_new', 'Education_Level_new', 'Income_Category_new']], data_new_y_train, scoring='f1_weighted', \n",
    "                         cv=kf)\n",
    "scores"
   ],
   "execution_count":51,
   "outputs":[
    {
     "data":{
      "text\/html":[
       
      ]
     },
     "metadata":{
      
     },
     "output_type":"display_data"
    }
   ],
   "metadata":{
    "datalore":{
     "type":"CODE",
     "hide_input_from_viewers":false,
     "hide_output_from_viewers":false
    }
   }
  },
  {
   "cell_type":"code",
   "source":[
    "#осуществим кросс-валидацию K-fold (4 соседа)\n",
    "kf = KFold(n_splits=3)\n",
    "scores = cross_val_score(KNeighborsClassifier(n_neighbors=4), \n",
    "                         data_new_X_train[['Customer_Age','Card_Category_new', 'Education_Level_new', 'Income_Category_new']], data_new_y_train, scoring='f1_weighted', \n",
    "                         cv=kf)\n",
    "scores"
   ],
   "execution_count":52,
   "outputs":[
    {
     "data":{
      "text\/html":[
       
      ]
     },
     "metadata":{
      
     },
     "output_type":"display_data"
    }
   ],
   "metadata":{
    "datalore":{
     "type":"CODE",
     "hide_input_from_viewers":false,
     "hide_output_from_viewers":false
    }
   }
  },
  {
   "cell_type":"code",
   "source":[
    "#а теперь Repeated K-Fold (2 соседа)\n",
    "kf = RepeatedKFold(n_splits=4, n_repeats=2)\n",
    "scores = cross_val_score(KNeighborsClassifier(n_neighbors=2), \n",
    "                         data_new_X_train[['Customer_Age','Card_Category_new', 'Education_Level_new', 'Income_Category_new']], data_new_y_train, scoring='f1_weighted', \n",
    "                         cv=kf)\n",
    "scores"
   ],
   "execution_count":53,
   "outputs":[
    {
     "data":{
      "text\/html":[
       
      ]
     },
     "metadata":{
      
     },
     "output_type":"display_data"
    }
   ],
   "metadata":{
    "datalore":{
     "type":"CODE",
     "hide_input_from_viewers":false,
     "hide_output_from_viewers":false
    }
   }
  },
  {
   "cell_type":"code",
   "source":[
    "#теперь Repeated K-Fold (4 соседа)\n",
    "kf = RepeatedKFold(n_splits=4, n_repeats=2)\n",
    "scores = cross_val_score(KNeighborsClassifier(n_neighbors=4), \n",
    "                         data_new_X_train[['Customer_Age','Card_Category_new', 'Education_Level_new', 'Income_Category_new']], data_new_y_train, scoring='f1_weighted', \n",
    "                         cv=kf)\n",
    "scores"
   ],
   "execution_count":54,
   "outputs":[
    {
     "data":{
      "text\/html":[
       
      ]
     },
     "metadata":{
      
     },
     "output_type":"display_data"
    }
   ],
   "metadata":{
    "datalore":{
     "type":"CODE",
     "hide_input_from_viewers":false,
     "hide_output_from_viewers":false
    }
   }
  },
  {
   "cell_type":"code",
   "source":[
    "#Leave One Out (LOO)-d тестовую выборку помещается единственный элемент и \n",
    "#количество фолдов в этом случае определяется автоматически и равняется количеству элементов\n",
    "#kf = LeaveOneOut()\n",
    "#scores = cross_val_score(KNeighborsClassifier(), \n",
    "                         #data_new_X_train[['Customer_Age','Card_Category_new', 'Education_Level_new', 'Income_Category_new']], data_new_y_train, \n",
    "                         #scoring='f1_weighted', cv=LeaveOneOut())\n",
    "#scores\n",
    "#scores = cross_val_score(KNeighborsClassifier(), X, y, cv=LeaveOneOut(), scoring='f1_weighted')\n",
    "#print('{}\\nMean: {}'.format(scores, np.mean(scores)))"
   ],
   "execution_count":55,
   "outputs":[
    
   ],
   "metadata":{
    "datalore":{
     "type":"CODE",
     "hide_input_from_viewers":false,
     "hide_output_from_viewers":false
    }
   }
  },
  {
   "cell_type":"code",
   "source":[
    "scores = cross_val_score(KNeighborsClassifier(), data_new_X_train[['Customer_Age','Card_Category_new', 'Education_Level_new', 'Income_Category_new']], data_new_y_train, \n",
    "                         cv=ShuffleSplit(n_splits=10, test_size=0.25, random_state=1), scoring='f1_weighted')\n",
    "scores"
   ],
   "execution_count":56,
   "outputs":[
    {
     "data":{
      "text\/html":[
       
      ]
     },
     "metadata":{
      
     },
     "output_type":"display_data"
    }
   ],
   "metadata":{
    "datalore":{
     "type":"CODE",
     "hide_input_from_viewers":false,
     "hide_output_from_viewers":false
    }
   }
  },
  {
   "cell_type":"code",
   "source":[
    "n_range = np.array(range(1,32,1))\n",
    "tuned_parameters = [{'n_neighbors': n_range}]\n",
    "tuned_parameters"
   ],
   "execution_count":57,
   "outputs":[
    {
     "data":{
      "text\/plain":[
       "[{'n_neighbors': array([ 1,  2,  3,  4,  5,  6,  7,  8,  9, 10, 11, 12, 13, 14, 15, 16, 17,\n",
       "         18, 19, 20, 21, 22, 23, 24, 25, 26, 27, 28, 29, 30, 31])}]"
      ]
     },
     "metadata":{
      
     },
     "output_type":"display_data"
    }
   ],
   "metadata":{
    "datalore":{
     "type":"CODE",
     "hide_input_from_viewers":false,
     "hide_output_from_viewers":false
    }
   }
  },
  {
   "cell_type":"code",
   "source":[
    "%%time\n",
    "kf = KFold(n_splits=3)\n",
    "#%%time\n",
    "c_gs1 = GridSearchCV(KNeighborsClassifier(), tuned_parameters, cv=kf, scoring='accuracy')\n",
    "c_gs1.fit(data_new_X_train[['Customer_Age','Card_Category_new', 'Education_Level_new', 'Income_Category_new']], data_new_y_train)"
   ],
   "execution_count":58,
   "outputs":[
    {
     "name":"stdout",
     "text":[
      "CPU times: user 38.3 s, sys: 0 ns, total: 38.3 s\n",
      "Wall time: 38.5 s\n"
     ],
     "output_type":"stream"
    },
    {
     "data":{
      "text\/plain":[
       "GridSearchCV(cv=KFold(n_splits=3, random_state=None, shuffle=False),\n",
       "             estimator=KNeighborsClassifier(),\n",
       "             param_grid=[{'n_neighbors': array([ 1,  2,  3,  4,  5,  6,  7,  8,  9, 10, 11, 12, 13, 14, 15, 16, 17,\n",
       "       18, 19, 20, 21, 22, 23, 24, 25, 26, 27, 28, 29, 30, 31])}],\n",
       "             scoring='accuracy')"
      ]
     },
     "metadata":{
      
     },
     "output_type":"display_data"
    }
   ],
   "metadata":{
    "datalore":{
     "type":"CODE",
     "hide_input_from_viewers":false,
     "hide_output_from_viewers":false
    }
   }
  },
  {
   "cell_type":"code",
   "source":[
    "# Лучшая модель\n",
    "c_gs1.best_estimator_"
   ],
   "execution_count":59,
   "outputs":[
    {
     "data":{
      "text\/plain":[
       "KNeighborsClassifier(n_neighbors=10)"
      ]
     },
     "metadata":{
      
     },
     "output_type":"display_data"
    }
   ],
   "metadata":{
    "datalore":{
     "type":"CODE",
     "hide_input_from_viewers":false,
     "hide_output_from_viewers":false
    }
   }
  },
  {
   "cell_type":"code",
   "source":[
    "# Лучшее значение метрики\n",
    "c_gs1.best_score_"
   ],
   "execution_count":60,
   "outputs":[
    {
     "data":{
      "text\/plain":[
       "0.8787033809689788"
      ]
     },
     "metadata":{
      
     },
     "output_type":"display_data"
    }
   ],
   "metadata":{
    "datalore":{
     "type":"CODE",
     "hide_input_from_viewers":false,
     "hide_output_from_viewers":false
    }
   }
  },
  {
   "cell_type":"code",
   "source":[
    "# Изменение качества на тестовой выборке в зависимости от К-соседей\n",
    "plt.plot(n_range, c_gs1.cv_results_['mean_test_score'])"
   ],
   "execution_count":61,
   "outputs":[
    {
     "data":{
      "text\/plain":[
       "[<matplotlib.lines.Line2D at 0x7f03c6c01af0>]"
      ],
      "image\/png":"[encoded data removed]"
     },
     "metadata":{
      "image\/png":{
       
      }
     },
     "output_type":"display_data"
    }
   ],
   "metadata":{
    "datalore":{
     "type":"CODE",
     "hide_input_from_viewers":false,
     "hide_output_from_viewers":false
    }
   }
  },
  {
   "cell_type":"code",
   "source":[
    "%%time\n",
    "kf = RepeatedKFold(n_splits=4, n_repeats=2)\n",
    "#%%time\n",
    "c_gs2 = GridSearchCV(KNeighborsClassifier(), tuned_parameters, cv=kf, scoring='accuracy')\n",
    "c_gs2.fit(data_new_X_train[['Customer_Age','Card_Category_new', 'Education_Level_new', 'Income_Category_new']], data_new_y_train)"
   ],
   "execution_count":62,
   "outputs":[
    {
     "name":"stdout",
     "text":[
      "CPU times: user 46.6 s, sys: 0 ns, total: 46.6 s\n",
      "Wall time: 46.7 s\n"
     ],
     "output_type":"stream"
    },
    {
     "data":{
      "text\/plain":[
       "GridSearchCV(cv=RepeatedKFold(n_repeats=2, n_splits=4, random_state=None),\n",
       "             estimator=KNeighborsClassifier(),\n",
       "             param_grid=[{'n_neighbors': array([ 1,  2,  3,  4,  5,  6,  7,  8,  9, 10, 11, 12, 13, 14, 15, 16, 17,\n",
       "       18, 19, 20, 21, 22, 23, 24, 25, 26, 27, 28, 29, 30, 31])}],\n",
       "             scoring='accuracy')"
      ]
     },
     "metadata":{
      
     },
     "output_type":"display_data"
    }
   ],
   "metadata":{
    "datalore":{
     "type":"CODE",
     "hide_input_from_viewers":false,
     "hide_output_from_viewers":false
    }
   }
  },
  {
   "cell_type":"code",
   "source":[
    "# Лучшая модель\n",
    "c_gs2.best_estimator_"
   ],
   "execution_count":63,
   "outputs":[
    {
     "data":{
      "text\/plain":[
       "KNeighborsClassifier(n_neighbors=4)"
      ]
     },
     "metadata":{
      
     },
     "output_type":"display_data"
    }
   ],
   "metadata":{
    "datalore":{
     "type":"CODE",
     "hide_input_from_viewers":false,
     "hide_output_from_viewers":false
    }
   }
  },
  {
   "cell_type":"code",
   "source":[
    "# Лучшее значение метрики\n",
    "c_gs2.best_score_"
   ],
   "execution_count":64,
   "outputs":[
    {
     "data":{
      "text\/plain":[
       "0.8806779590715134"
      ]
     },
     "metadata":{
      
     },
     "output_type":"display_data"
    }
   ],
   "metadata":{
    "datalore":{
     "type":"CODE",
     "hide_input_from_viewers":false,
     "hide_output_from_viewers":false
    }
   }
  },
  {
   "cell_type":"code",
   "source":[
    "# Изменение качества на тестовой выборке в зависимости от К-соседей\n",
    "plt.plot(n_range, c_gs2.cv_results_['mean_test_score'])"
   ],
   "execution_count":65,
   "outputs":[
    {
     "data":{
      "text\/plain":[
       "[<matplotlib.lines.Line2D at 0x7f03c4acf700>]"
      ],
      "image\/png":"[encoded data removed]"
     },
     "metadata":{
      "image\/png":{
       
      }
     },
     "output_type":"display_data"
    }
   ],
   "metadata":{
    "datalore":{
     "type":"CODE",
     "hide_input_from_viewers":false,
     "hide_output_from_viewers":false
    }
   }
  },
  {
   "cell_type":"code",
   "source":[
    "%%time\n",
    "kf = ShuffleSplit(n_splits=10, test_size=0.25, random_state=1)\n",
    "c_gs3 = GridSearchCV(KNeighborsClassifier(), tuned_parameters, cv=kf, scoring='accuracy')\n",
    "c_gs3.fit(data_new_X_train[['Customer_Age','Card_Category_new', 'Education_Level_new', 'Income_Category_new']], data_new_y_train)"
   ],
   "execution_count":66,
   "outputs":[
    {
     "name":"stdout",
     "text":[
      "CPU times: user 35.7 s, sys: 0 ns, total: 35.7 s\n",
      "Wall time: 35.7 s\n"
     ],
     "output_type":"stream"
    },
    {
     "data":{
      "text\/plain":[
       "GridSearchCV(cv=ShuffleSplit(n_splits=10, random_state=1, test_size=0.25, train_size=None),\n",
       "             estimator=KNeighborsClassifier(),\n",
       "             param_grid=[{'n_neighbors': array([ 1,  2,  3,  4,  5,  6,  7,  8,  9, 10, 11, 12, 13, 14, 15, 16, 17,\n",
       "       18, 19, 20, 21, 22, 23, 24, 25, 26, 27, 28, 29, 30, 31])}],\n",
       "             scoring='accuracy')"
      ]
     },
     "metadata":{
      
     },
     "output_type":"display_data"
    }
   ],
   "metadata":{
    "datalore":{
     "type":"CODE",
     "hide_input_from_viewers":false,
     "hide_output_from_viewers":false
    }
   }
  },
  {
   "cell_type":"code",
   "source":[
    "# Лучшая модель\n",
    "c_gs3.best_estimator_"
   ],
   "execution_count":67,
   "outputs":[
    {
     "data":{
      "text\/plain":[
       "KNeighborsClassifier(n_neighbors=6)"
      ]
     },
     "metadata":{
      
     },
     "output_type":"display_data"
    }
   ],
   "metadata":{
    "datalore":{
     "type":"CODE",
     "hide_input_from_viewers":false,
     "hide_output_from_viewers":false
    }
   }
  },
  {
   "cell_type":"code",
   "source":[
    "# Лучшее значение метрики\n",
    "c_gs3.best_score_"
   ],
   "execution_count":68,
   "outputs":[
    {
     "data":{
      "text\/plain":[
       "0.8823420074349443"
      ]
     },
     "metadata":{
      
     },
     "output_type":"display_data"
    }
   ],
   "metadata":{
    "datalore":{
     "type":"CODE",
     "hide_input_from_viewers":false,
     "hide_output_from_viewers":false
    }
   }
  },
  {
   "cell_type":"code",
   "source":[
    "# Изменение качества на тестовой выборке в зависимости от К-соседей\n",
    "plt.plot(n_range, c_gs3.cv_results_['mean_test_score'])"
   ],
   "execution_count":69,
   "outputs":[
    {
     "data":{
      "text\/plain":[
       "[<matplotlib.lines.Line2D at 0x7f03c4a2cb80>]"
      ],
      "image\/png":"[encoded data removed]"
     },
     "metadata":{
      "image\/png":{
       
      }
     },
     "output_type":"display_data"
    }
   ],
   "metadata":{
    "datalore":{
     "type":"CODE",
     "hide_input_from_viewers":false,
     "hide_output_from_viewers":false
    }
   }
  },
  {
   "cell_type":"code",
   "source":[
    "%%time\n",
    "kf = KFold(n_splits=3)\n",
    "c_rs1 = RandomizedSearchCV(KNeighborsClassifier(), tuned_parameters, cv=kf, scoring='accuracy')\n",
    "c_rs1.fit(data_new_X_train[['Customer_Age','Card_Category_new', 'Education_Level_new', 'Income_Category_new']], data_new_y_train)"
   ],
   "execution_count":70,
   "outputs":[
    {
     "name":"stdout",
     "text":[
      "CPU times: user 4.6 s, sys: 0 ns, total: 4.6 s\n",
      "Wall time: 4.6 s\n"
     ],
     "output_type":"stream"
    },
    {
     "data":{
      "text\/plain":[
       "RandomizedSearchCV(cv=KFold(n_splits=3, random_state=None, shuffle=False),\n",
       "                   estimator=KNeighborsClassifier(),\n",
       "                   param_distributions=[{'n_neighbors': array([ 1,  2,  3,  4,  5,  6,  7,  8,  9, 10, 11, 12, 13, 14, 15, 16, 17,\n",
       "       18, 19, 20, 21, 22, 23, 24, 25, 26, 27, 28, 29, 30, 31])}],\n",
       "                   scoring='accuracy')"
      ]
     },
     "metadata":{
      
     },
     "output_type":"display_data"
    }
   ],
   "metadata":{
    "datalore":{
     "type":"CODE",
     "hide_input_from_viewers":false,
     "hide_output_from_viewers":false
    }
   }
  },
  {
   "cell_type":"code",
   "source":[
    "# Лучшая модель\n",
    "c_rs1.best_estimator_"
   ],
   "execution_count":71,
   "outputs":[
    {
     "data":{
      "text\/plain":[
       "KNeighborsClassifier(n_neighbors=8)"
      ]
     },
     "metadata":{
      
     },
     "output_type":"display_data"
    }
   ],
   "metadata":{
    "datalore":{
     "type":"CODE",
     "hide_input_from_viewers":false,
     "hide_output_from_viewers":false
    }
   }
  },
  {
   "cell_type":"code",
   "source":[
    "# Лучшее значение метрики\n",
    "c_rs1.best_score_"
   ],
   "execution_count":72,
   "outputs":[
    {
     "data":{
      "text\/plain":[
       "0.8781224584640409"
      ]
     },
     "metadata":{
      
     },
     "output_type":"display_data"
    }
   ],
   "metadata":{
    "datalore":{
     "type":"CODE",
     "hide_input_from_viewers":false,
     "hide_output_from_viewers":false
    }
   }
  },
  {
   "cell_type":"code",
   "source":[
    "%%time\n",
    "kf = RepeatedKFold(n_splits=4, n_repeats=2)\n",
    "c_rs2 = RandomizedSearchCV(KNeighborsClassifier(), tuned_parameters, cv=kf, scoring='accuracy')\n",
    "c_rs2.fit(data_new_X_train[['Customer_Age','Card_Category_new', 'Education_Level_new', 'Income_Category_new']], data_new_y_train)"
   ],
   "execution_count":84,
   "outputs":[
    {
     "name":"stdout",
     "text":[
      "CPU times: user 7.98 s, sys: 0 ns, total: 7.98 s\n",
      "Wall time: 7.98 s\n"
     ],
     "output_type":"stream"
    },
    {
     "data":{
      "text\/plain":[
       "RandomizedSearchCV(cv=RepeatedKFold(n_repeats=2, n_splits=4, random_state=None),\n",
       "                   estimator=KNeighborsClassifier(),\n",
       "                   param_distributions=[{'n_neighbors': array([ 1,  2,  3,  4,  5,  6,  7,  8,  9, 10, 11, 12, 13, 14, 15, 16, 17,\n",
       "       18, 19, 20, 21, 22, 23, 24, 25, 26, 27, 28, 29, 30, 31])}],\n",
       "                   scoring='accuracy')"
      ]
     },
     "metadata":{
      
     },
     "output_type":"display_data"
    }
   ],
   "metadata":{
    "datalore":{
     "type":"CODE",
     "hide_input_from_viewers":false,
     "hide_output_from_viewers":false
    }
   }
  },
  {
   "cell_type":"code",
   "source":[
    "# Лучшая модель\n",
    "c_rs2.best_estimator_"
   ],
   "execution_count":85,
   "outputs":[
    {
     "data":{
      "text\/plain":[
       "KNeighborsClassifier(n_neighbors=14)"
      ]
     },
     "metadata":{
      
     },
     "output_type":"display_data"
    }
   ],
   "metadata":{
    "datalore":{
     "type":"CODE",
     "hide_input_from_viewers":false,
     "hide_output_from_viewers":false
    }
   }
  },
  {
   "cell_type":"code",
   "source":[
    "# Лучшее значение метрики\n",
    "c_rs2.best_score_"
   ],
   "execution_count":86,
   "outputs":[
    {
     "data":{
      "text\/plain":[
       "0.8789941276124704"
      ]
     },
     "metadata":{
      
     },
     "output_type":"display_data"
    }
   ],
   "metadata":{
    "datalore":{
     "type":"CODE",
     "hide_input_from_viewers":false,
     "hide_output_from_viewers":false
    }
   }
  },
  {
   "cell_type":"code",
   "source":[
    "%%time\n",
    "kf = ShuffleSplit(n_splits=10, test_size=0.25, random_state=1)\n",
    "c_rs3 = RandomizedSearchCV(KNeighborsClassifier(), tuned_parameters, cv=kf, scoring='accuracy')\n",
    "c_rs3.fit(data_new_X_train[['Customer_Age','Card_Category_new', 'Education_Level_new', 'Income_Category_new']], data_new_y_train)"
   ],
   "execution_count":87,
   "outputs":[
    {
     "name":"stdout",
     "text":[
      "CPU times: user 10 s, sys: 0 ns, total: 10 s\n",
      "Wall time: 10 s\n"
     ],
     "output_type":"stream"
    },
    {
     "data":{
      "text\/plain":[
       "RandomizedSearchCV(cv=ShuffleSplit(n_splits=10, random_state=1, test_size=0.25, train_size=None),\n",
       "                   estimator=KNeighborsClassifier(),\n",
       "                   param_distributions=[{'n_neighbors': array([ 1,  2,  3,  4,  5,  6,  7,  8,  9, 10, 11, 12, 13, 14, 15, 16, 17,\n",
       "       18, 19, 20, 21, 22, 23, 24, 25, 26, 27, 28, 29, 30, 31])}],\n",
       "                   scoring='accuracy')"
      ]
     },
     "metadata":{
      
     },
     "output_type":"display_data"
    }
   ],
   "metadata":{
    "datalore":{
     "type":"CODE",
     "hide_input_from_viewers":false,
     "hide_output_from_viewers":false
    }
   }
  },
  {
   "cell_type":"code",
   "source":[
    "# Лучшая модель\n",
    "c_rs3.best_estimator_"
   ],
   "execution_count":88,
   "outputs":[
    {
     "data":{
      "text\/plain":[
       "KNeighborsClassifier(n_neighbors=9)"
      ]
     },
     "metadata":{
      
     },
     "output_type":"display_data"
    }
   ],
   "metadata":{
    "datalore":{
     "type":"CODE",
     "hide_input_from_viewers":false,
     "hide_output_from_viewers":false
    }
   }
  },
  {
   "cell_type":"code",
   "source":[
    "# Лучшее значение метрики\n",
    "c_rs3.best_score_"
   ],
   "execution_count":89,
   "outputs":[
    {
     "data":{
      "text\/plain":[
       "0.8806691449814126"
      ]
     },
     "metadata":{
      
     },
     "output_type":"display_data"
    }
   ],
   "metadata":{
    "datalore":{
     "type":"CODE",
     "hide_input_from_viewers":false,
     "hide_output_from_viewers":false
    }
   }
  },
  {
   "cell_type":"code",
   "source":[
    "df_gs = pd.DataFrame(c_gs1.cv_results_)\n",
    "df_rs = pd.DataFrame(c_rs1.cv_results_)\n",
    "print(df_gs.shape, df_rs.shape)"
   ],
   "execution_count":75,
   "outputs":[
    {
     "name":"stdout",
     "text":[
      "(31, 12) (10, 12)\n"
     ],
     "output_type":"stream"
    }
   ],
   "metadata":{
    "datalore":{
     "type":"CODE",
     "hide_input_from_viewers":false,
     "hide_output_from_viewers":false
    }
   }
  }
 ],
 "metadata":{
  "datalore":{
   "version":1,
   "computation_mode":"JUPYTER",
   "package_manager":"pip",
   "base_environment":"default",
   "packages":[
    
   ]
  }
 },
 "nbformat":4,
 "nbformat_minor":4
}